{
  "nbformat": 4,
  "nbformat_minor": 0,
  "metadata": {
    "colab": {
      "provenance": [],
      "authorship_tag": "ABX9TyPXU31E3EVdoQ7G6djKfG/2",
      "include_colab_link": true
    },
    "kernelspec": {
      "name": "python3",
      "display_name": "Python 3"
    },
    "language_info": {
      "name": "python"
    }
  },
  "cells": [
    {
      "cell_type": "markdown",
      "metadata": {
        "id": "view-in-github",
        "colab_type": "text"
      },
      "source": [
        "<a href=\"https://colab.research.google.com/github/Herodegon/ECGR4105-Intro-to-Machine-Learning/blob/main/Assignment2_GradientDescent2.ipynb\" target=\"_parent\"><img src=\"https://colab.research.google.com/assets/colab-badge.svg\" alt=\"Open In Colab\"/></a>"
      ]
    },
    {
      "cell_type": "markdown",
      "source": [
        "In this assignment, we will use US Housing dataset. You will develop linear regression with gradient decent algorithm to estimate the price of the house. In this assignment, we will use 80% and 20% split between training and evaluation (test) sets across all problems. (Note: You cannot use the built-in function from ML libraries for gradient descent, you must implement it yourself. However, you can use built-in function for normalization/standardization)"
      ],
      "metadata": {
        "id": "jTg0JxXwVBXd"
      }
    },
    {
      "cell_type": "code",
      "execution_count": 1,
      "metadata": {
        "colab": {
          "base_uri": "https://localhost:8080/",
          "height": 0
        },
        "id": "c7f80043-8259-4a72-b58b-7c09d79c9983",
        "outputId": "4e86f4d8-8e0e-4934-fd45-13609a93bdbf"
      },
      "outputs": [
        {
          "output_type": "stream",
          "name": "stdout",
          "text": [
            "Drive already mounted at /content/drive; to attempt to forcibly remount, call drive.mount(\"/content/drive\", force_remount=True).\n"
          ]
        }
      ],
      "source": [
        "import numpy as np\n",
        "import matplotlib.pyplot as plt\n",
        "import pandas as pd\n",
        "from google.colab import drive\n",
        "drive.mount('/content/drive')"
      ]
    },
    {
      "cell_type": "code",
      "source": [
        "file_path = '/content/drive/MyDrive/ECGR4105/HW2_Housing.csv'\n",
        "dataset = pd.DataFrame(pd.read_csv(file_path))\n",
        "M=len(dataset)\n",
        "M"
      ],
      "metadata": {
        "colab": {
          "base_uri": "https://localhost:8080/",
          "height": 0
        },
        "id": "B6L9JqvRbQyE",
        "outputId": "feaf0b82-0c5f-4523-e3de-5b6d36682ea6"
      },
      "execution_count": 2,
      "outputs": [
        {
          "output_type": "execute_result",
          "data": {
            "text/plain": [
              "545"
            ]
          },
          "metadata": {},
          "execution_count": 2
        }
      ]
    },
    {
      "cell_type": "code",
      "source": [
        "dataset.head()"
      ],
      "metadata": {
        "colab": {
          "base_uri": "https://localhost:8080/",
          "height": 226
        },
        "id": "AS5fCP7aVJtG",
        "outputId": "1f1fbc2d-2dd0-4539-b5f8-69e803df7213"
      },
      "execution_count": 3,
      "outputs": [
        {
          "output_type": "execute_result",
          "data": {
            "text/plain": [
              "      price  area  bedrooms  bathrooms  stories mainroad guestroom basement  \\\n",
              "0  13300000  7420         4          2        3      yes        no       no   \n",
              "1  12250000  8960         4          4        4      yes        no       no   \n",
              "2  12250000  9960         3          2        2      yes        no      yes   \n",
              "3  12215000  7500         4          2        2      yes        no      yes   \n",
              "4  11410000  7420         4          1        2      yes       yes      yes   \n",
              "\n",
              "  hotwaterheating airconditioning  parking prefarea furnishingstatus  \n",
              "0              no             yes        2      yes        furnished  \n",
              "1              no             yes        3       no        furnished  \n",
              "2              no              no        2      yes   semi-furnished  \n",
              "3              no             yes        3      yes        furnished  \n",
              "4              no             yes        2       no        furnished  "
            ],
            "text/html": [
              "\n",
              "  <div id=\"df-6f57597d-a45f-49e3-8599-ad9e31d53049\" class=\"colab-df-container\">\n",
              "    <div>\n",
              "<style scoped>\n",
              "    .dataframe tbody tr th:only-of-type {\n",
              "        vertical-align: middle;\n",
              "    }\n",
              "\n",
              "    .dataframe tbody tr th {\n",
              "        vertical-align: top;\n",
              "    }\n",
              "\n",
              "    .dataframe thead th {\n",
              "        text-align: right;\n",
              "    }\n",
              "</style>\n",
              "<table border=\"1\" class=\"dataframe\">\n",
              "  <thead>\n",
              "    <tr style=\"text-align: right;\">\n",
              "      <th></th>\n",
              "      <th>price</th>\n",
              "      <th>area</th>\n",
              "      <th>bedrooms</th>\n",
              "      <th>bathrooms</th>\n",
              "      <th>stories</th>\n",
              "      <th>mainroad</th>\n",
              "      <th>guestroom</th>\n",
              "      <th>basement</th>\n",
              "      <th>hotwaterheating</th>\n",
              "      <th>airconditioning</th>\n",
              "      <th>parking</th>\n",
              "      <th>prefarea</th>\n",
              "      <th>furnishingstatus</th>\n",
              "    </tr>\n",
              "  </thead>\n",
              "  <tbody>\n",
              "    <tr>\n",
              "      <th>0</th>\n",
              "      <td>13300000</td>\n",
              "      <td>7420</td>\n",
              "      <td>4</td>\n",
              "      <td>2</td>\n",
              "      <td>3</td>\n",
              "      <td>yes</td>\n",
              "      <td>no</td>\n",
              "      <td>no</td>\n",
              "      <td>no</td>\n",
              "      <td>yes</td>\n",
              "      <td>2</td>\n",
              "      <td>yes</td>\n",
              "      <td>furnished</td>\n",
              "    </tr>\n",
              "    <tr>\n",
              "      <th>1</th>\n",
              "      <td>12250000</td>\n",
              "      <td>8960</td>\n",
              "      <td>4</td>\n",
              "      <td>4</td>\n",
              "      <td>4</td>\n",
              "      <td>yes</td>\n",
              "      <td>no</td>\n",
              "      <td>no</td>\n",
              "      <td>no</td>\n",
              "      <td>yes</td>\n",
              "      <td>3</td>\n",
              "      <td>no</td>\n",
              "      <td>furnished</td>\n",
              "    </tr>\n",
              "    <tr>\n",
              "      <th>2</th>\n",
              "      <td>12250000</td>\n",
              "      <td>9960</td>\n",
              "      <td>3</td>\n",
              "      <td>2</td>\n",
              "      <td>2</td>\n",
              "      <td>yes</td>\n",
              "      <td>no</td>\n",
              "      <td>yes</td>\n",
              "      <td>no</td>\n",
              "      <td>no</td>\n",
              "      <td>2</td>\n",
              "      <td>yes</td>\n",
              "      <td>semi-furnished</td>\n",
              "    </tr>\n",
              "    <tr>\n",
              "      <th>3</th>\n",
              "      <td>12215000</td>\n",
              "      <td>7500</td>\n",
              "      <td>4</td>\n",
              "      <td>2</td>\n",
              "      <td>2</td>\n",
              "      <td>yes</td>\n",
              "      <td>no</td>\n",
              "      <td>yes</td>\n",
              "      <td>no</td>\n",
              "      <td>yes</td>\n",
              "      <td>3</td>\n",
              "      <td>yes</td>\n",
              "      <td>furnished</td>\n",
              "    </tr>\n",
              "    <tr>\n",
              "      <th>4</th>\n",
              "      <td>11410000</td>\n",
              "      <td>7420</td>\n",
              "      <td>4</td>\n",
              "      <td>1</td>\n",
              "      <td>2</td>\n",
              "      <td>yes</td>\n",
              "      <td>yes</td>\n",
              "      <td>yes</td>\n",
              "      <td>no</td>\n",
              "      <td>yes</td>\n",
              "      <td>2</td>\n",
              "      <td>no</td>\n",
              "      <td>furnished</td>\n",
              "    </tr>\n",
              "  </tbody>\n",
              "</table>\n",
              "</div>\n",
              "    <div class=\"colab-df-buttons\">\n",
              "\n",
              "  <div class=\"colab-df-container\">\n",
              "    <button class=\"colab-df-convert\" onclick=\"convertToInteractive('df-6f57597d-a45f-49e3-8599-ad9e31d53049')\"\n",
              "            title=\"Convert this dataframe to an interactive table.\"\n",
              "            style=\"display:none;\">\n",
              "\n",
              "  <svg xmlns=\"http://www.w3.org/2000/svg\" height=\"24px\" viewBox=\"0 -960 960 960\">\n",
              "    <path d=\"M120-120v-720h720v720H120Zm60-500h600v-160H180v160Zm220 220h160v-160H400v160Zm0 220h160v-160H400v160ZM180-400h160v-160H180v160Zm440 0h160v-160H620v160ZM180-180h160v-160H180v160Zm440 0h160v-160H620v160Z\"/>\n",
              "  </svg>\n",
              "    </button>\n",
              "\n",
              "  <style>\n",
              "    .colab-df-container {\n",
              "      display:flex;\n",
              "      gap: 12px;\n",
              "    }\n",
              "\n",
              "    .colab-df-convert {\n",
              "      background-color: #E8F0FE;\n",
              "      border: none;\n",
              "      border-radius: 50%;\n",
              "      cursor: pointer;\n",
              "      display: none;\n",
              "      fill: #1967D2;\n",
              "      height: 32px;\n",
              "      padding: 0 0 0 0;\n",
              "      width: 32px;\n",
              "    }\n",
              "\n",
              "    .colab-df-convert:hover {\n",
              "      background-color: #E2EBFA;\n",
              "      box-shadow: 0px 1px 2px rgba(60, 64, 67, 0.3), 0px 1px 3px 1px rgba(60, 64, 67, 0.15);\n",
              "      fill: #174EA6;\n",
              "    }\n",
              "\n",
              "    .colab-df-buttons div {\n",
              "      margin-bottom: 4px;\n",
              "    }\n",
              "\n",
              "    [theme=dark] .colab-df-convert {\n",
              "      background-color: #3B4455;\n",
              "      fill: #D2E3FC;\n",
              "    }\n",
              "\n",
              "    [theme=dark] .colab-df-convert:hover {\n",
              "      background-color: #434B5C;\n",
              "      box-shadow: 0px 1px 3px 1px rgba(0, 0, 0, 0.15);\n",
              "      filter: drop-shadow(0px 1px 2px rgba(0, 0, 0, 0.3));\n",
              "      fill: #FFFFFF;\n",
              "    }\n",
              "  </style>\n",
              "\n",
              "    <script>\n",
              "      const buttonEl =\n",
              "        document.querySelector('#df-6f57597d-a45f-49e3-8599-ad9e31d53049 button.colab-df-convert');\n",
              "      buttonEl.style.display =\n",
              "        google.colab.kernel.accessAllowed ? 'block' : 'none';\n",
              "\n",
              "      async function convertToInteractive(key) {\n",
              "        const element = document.querySelector('#df-6f57597d-a45f-49e3-8599-ad9e31d53049');\n",
              "        const dataTable =\n",
              "          await google.colab.kernel.invokeFunction('convertToInteractive',\n",
              "                                                    [key], {});\n",
              "        if (!dataTable) return;\n",
              "\n",
              "        const docLinkHtml = 'Like what you see? Visit the ' +\n",
              "          '<a target=\"_blank\" href=https://colab.research.google.com/notebooks/data_table.ipynb>data table notebook</a>'\n",
              "          + ' to learn more about interactive tables.';\n",
              "        element.innerHTML = '';\n",
              "        dataTable['output_type'] = 'display_data';\n",
              "        await google.colab.output.renderOutput(dataTable, element);\n",
              "        const docLink = document.createElement('div');\n",
              "        docLink.innerHTML = docLinkHtml;\n",
              "        element.appendChild(docLink);\n",
              "      }\n",
              "    </script>\n",
              "  </div>\n",
              "\n",
              "\n",
              "<div id=\"df-24305629-c386-41c9-9ef2-04c40370a3aa\">\n",
              "  <button class=\"colab-df-quickchart\" onclick=\"quickchart('df-24305629-c386-41c9-9ef2-04c40370a3aa')\"\n",
              "            title=\"Suggest charts\"\n",
              "            style=\"display:none;\">\n",
              "\n",
              "<svg xmlns=\"http://www.w3.org/2000/svg\" height=\"24px\"viewBox=\"0 0 24 24\"\n",
              "     width=\"24px\">\n",
              "    <g>\n",
              "        <path d=\"M19 3H5c-1.1 0-2 .9-2 2v14c0 1.1.9 2 2 2h14c1.1 0 2-.9 2-2V5c0-1.1-.9-2-2-2zM9 17H7v-7h2v7zm4 0h-2V7h2v10zm4 0h-2v-4h2v4z\"/>\n",
              "    </g>\n",
              "</svg>\n",
              "  </button>\n",
              "\n",
              "<style>\n",
              "  .colab-df-quickchart {\n",
              "      --bg-color: #E8F0FE;\n",
              "      --fill-color: #1967D2;\n",
              "      --hover-bg-color: #E2EBFA;\n",
              "      --hover-fill-color: #174EA6;\n",
              "      --disabled-fill-color: #AAA;\n",
              "      --disabled-bg-color: #DDD;\n",
              "  }\n",
              "\n",
              "  [theme=dark] .colab-df-quickchart {\n",
              "      --bg-color: #3B4455;\n",
              "      --fill-color: #D2E3FC;\n",
              "      --hover-bg-color: #434B5C;\n",
              "      --hover-fill-color: #FFFFFF;\n",
              "      --disabled-bg-color: #3B4455;\n",
              "      --disabled-fill-color: #666;\n",
              "  }\n",
              "\n",
              "  .colab-df-quickchart {\n",
              "    background-color: var(--bg-color);\n",
              "    border: none;\n",
              "    border-radius: 50%;\n",
              "    cursor: pointer;\n",
              "    display: none;\n",
              "    fill: var(--fill-color);\n",
              "    height: 32px;\n",
              "    padding: 0;\n",
              "    width: 32px;\n",
              "  }\n",
              "\n",
              "  .colab-df-quickchart:hover {\n",
              "    background-color: var(--hover-bg-color);\n",
              "    box-shadow: 0 1px 2px rgba(60, 64, 67, 0.3), 0 1px 3px 1px rgba(60, 64, 67, 0.15);\n",
              "    fill: var(--button-hover-fill-color);\n",
              "  }\n",
              "\n",
              "  .colab-df-quickchart-complete:disabled,\n",
              "  .colab-df-quickchart-complete:disabled:hover {\n",
              "    background-color: var(--disabled-bg-color);\n",
              "    fill: var(--disabled-fill-color);\n",
              "    box-shadow: none;\n",
              "  }\n",
              "\n",
              "  .colab-df-spinner {\n",
              "    border: 2px solid var(--fill-color);\n",
              "    border-color: transparent;\n",
              "    border-bottom-color: var(--fill-color);\n",
              "    animation:\n",
              "      spin 1s steps(1) infinite;\n",
              "  }\n",
              "\n",
              "  @keyframes spin {\n",
              "    0% {\n",
              "      border-color: transparent;\n",
              "      border-bottom-color: var(--fill-color);\n",
              "      border-left-color: var(--fill-color);\n",
              "    }\n",
              "    20% {\n",
              "      border-color: transparent;\n",
              "      border-left-color: var(--fill-color);\n",
              "      border-top-color: var(--fill-color);\n",
              "    }\n",
              "    30% {\n",
              "      border-color: transparent;\n",
              "      border-left-color: var(--fill-color);\n",
              "      border-top-color: var(--fill-color);\n",
              "      border-right-color: var(--fill-color);\n",
              "    }\n",
              "    40% {\n",
              "      border-color: transparent;\n",
              "      border-right-color: var(--fill-color);\n",
              "      border-top-color: var(--fill-color);\n",
              "    }\n",
              "    60% {\n",
              "      border-color: transparent;\n",
              "      border-right-color: var(--fill-color);\n",
              "    }\n",
              "    80% {\n",
              "      border-color: transparent;\n",
              "      border-right-color: var(--fill-color);\n",
              "      border-bottom-color: var(--fill-color);\n",
              "    }\n",
              "    90% {\n",
              "      border-color: transparent;\n",
              "      border-bottom-color: var(--fill-color);\n",
              "    }\n",
              "  }\n",
              "</style>\n",
              "\n",
              "  <script>\n",
              "    async function quickchart(key) {\n",
              "      const quickchartButtonEl =\n",
              "        document.querySelector('#' + key + ' button');\n",
              "      quickchartButtonEl.disabled = true;  // To prevent multiple clicks.\n",
              "      quickchartButtonEl.classList.add('colab-df-spinner');\n",
              "      try {\n",
              "        const charts = await google.colab.kernel.invokeFunction(\n",
              "            'suggestCharts', [key], {});\n",
              "      } catch (error) {\n",
              "        console.error('Error during call to suggestCharts:', error);\n",
              "      }\n",
              "      quickchartButtonEl.classList.remove('colab-df-spinner');\n",
              "      quickchartButtonEl.classList.add('colab-df-quickchart-complete');\n",
              "    }\n",
              "    (() => {\n",
              "      let quickchartButtonEl =\n",
              "        document.querySelector('#df-24305629-c386-41c9-9ef2-04c40370a3aa button');\n",
              "      quickchartButtonEl.style.display =\n",
              "        google.colab.kernel.accessAllowed ? 'block' : 'none';\n",
              "    })();\n",
              "  </script>\n",
              "</div>\n",
              "\n",
              "    </div>\n",
              "  </div>\n"
            ],
            "application/vnd.google.colaboratory.intrinsic+json": {
              "type": "dataframe",
              "variable_name": "dataset",
              "summary": "{\n  \"name\": \"dataset\",\n  \"rows\": 545,\n  \"fields\": [\n    {\n      \"column\": \"price\",\n      \"properties\": {\n        \"dtype\": \"number\",\n        \"std\": 1870439,\n        \"min\": 1750000,\n        \"max\": 13300000,\n        \"num_unique_values\": 219,\n        \"samples\": [\n          3773000,\n          5285000,\n          1820000\n        ],\n        \"semantic_type\": \"\",\n        \"description\": \"\"\n      }\n    },\n    {\n      \"column\": \"area\",\n      \"properties\": {\n        \"dtype\": \"number\",\n        \"std\": 2170,\n        \"min\": 1650,\n        \"max\": 16200,\n        \"num_unique_values\": 284,\n        \"samples\": [\n          6000,\n          2684,\n          5360\n        ],\n        \"semantic_type\": \"\",\n        \"description\": \"\"\n      }\n    },\n    {\n      \"column\": \"bedrooms\",\n      \"properties\": {\n        \"dtype\": \"number\",\n        \"std\": 0,\n        \"min\": 1,\n        \"max\": 6,\n        \"num_unique_values\": 6,\n        \"samples\": [\n          4,\n          3,\n          1\n        ],\n        \"semantic_type\": \"\",\n        \"description\": \"\"\n      }\n    },\n    {\n      \"column\": \"bathrooms\",\n      \"properties\": {\n        \"dtype\": \"number\",\n        \"std\": 0,\n        \"min\": 1,\n        \"max\": 4,\n        \"num_unique_values\": 4,\n        \"samples\": [\n          4,\n          3,\n          2\n        ],\n        \"semantic_type\": \"\",\n        \"description\": \"\"\n      }\n    },\n    {\n      \"column\": \"stories\",\n      \"properties\": {\n        \"dtype\": \"number\",\n        \"std\": 0,\n        \"min\": 1,\n        \"max\": 4,\n        \"num_unique_values\": 4,\n        \"samples\": [\n          4,\n          1,\n          3\n        ],\n        \"semantic_type\": \"\",\n        \"description\": \"\"\n      }\n    },\n    {\n      \"column\": \"mainroad\",\n      \"properties\": {\n        \"dtype\": \"category\",\n        \"num_unique_values\": 2,\n        \"samples\": [\n          \"no\",\n          \"yes\"\n        ],\n        \"semantic_type\": \"\",\n        \"description\": \"\"\n      }\n    },\n    {\n      \"column\": \"guestroom\",\n      \"properties\": {\n        \"dtype\": \"category\",\n        \"num_unique_values\": 2,\n        \"samples\": [\n          \"yes\",\n          \"no\"\n        ],\n        \"semantic_type\": \"\",\n        \"description\": \"\"\n      }\n    },\n    {\n      \"column\": \"basement\",\n      \"properties\": {\n        \"dtype\": \"category\",\n        \"num_unique_values\": 2,\n        \"samples\": [\n          \"yes\",\n          \"no\"\n        ],\n        \"semantic_type\": \"\",\n        \"description\": \"\"\n      }\n    },\n    {\n      \"column\": \"hotwaterheating\",\n      \"properties\": {\n        \"dtype\": \"category\",\n        \"num_unique_values\": 2,\n        \"samples\": [\n          \"yes\",\n          \"no\"\n        ],\n        \"semantic_type\": \"\",\n        \"description\": \"\"\n      }\n    },\n    {\n      \"column\": \"airconditioning\",\n      \"properties\": {\n        \"dtype\": \"category\",\n        \"num_unique_values\": 2,\n        \"samples\": [\n          \"no\",\n          \"yes\"\n        ],\n        \"semantic_type\": \"\",\n        \"description\": \"\"\n      }\n    },\n    {\n      \"column\": \"parking\",\n      \"properties\": {\n        \"dtype\": \"number\",\n        \"std\": 0,\n        \"min\": 0,\n        \"max\": 3,\n        \"num_unique_values\": 4,\n        \"samples\": [\n          3,\n          1\n        ],\n        \"semantic_type\": \"\",\n        \"description\": \"\"\n      }\n    },\n    {\n      \"column\": \"prefarea\",\n      \"properties\": {\n        \"dtype\": \"category\",\n        \"num_unique_values\": 2,\n        \"samples\": [\n          \"no\",\n          \"yes\"\n        ],\n        \"semantic_type\": \"\",\n        \"description\": \"\"\n      }\n    },\n    {\n      \"column\": \"furnishingstatus\",\n      \"properties\": {\n        \"dtype\": \"category\",\n        \"num_unique_values\": 3,\n        \"samples\": [\n          \"furnished\",\n          \"semi-furnished\"\n        ],\n        \"semantic_type\": \"\",\n        \"description\": \"\"\n      }\n    }\n  ]\n}"
            }
          },
          "metadata": {},
          "execution_count": 3
        }
      ]
    },
    {
      "cell_type": "markdown",
      "source": [
        "Problem 1 (30 points)\n",
        "\n",
        "1.a) Develop a gradient decent training and evaluation code, from scratch, that predicts housing price based on the following input variables:\n",
        "\n",
        "area, bedrooms, bathrooms, stories, parking\n",
        "\n",
        "Identify the best parameters for your linear regression model, based on the above input variables.\n",
        "\n",
        "Plot the training and validation losses (in a single graph, but two different lines). For the learning rate, explore different values between 0.1 and 0.01 (your choice). Initialize your parameters (thetas to zero). For the training iteration, choose what you believe fits the best."
      ],
      "metadata": {
        "id": "rio0OyIKVT4k"
      }
    },
    {
      "cell_type": "code",
      "source": [
        "X_1 = dataset.iloc[:,[1,2,3,4,10]].values  # Get input values from each explanatory variable (Area, Bedrooms, Bathrooms, Stories, Parking)\n",
        "Y_1 = dataset.iloc[:,0].values             # Get output values (Price of Housing)\n",
        "m = int(np.floor(len(X_1)*0.8))            # Number of training examples\n",
        "n = int(np.floor(len(X_1)*0.2))            # Number of validation examples\n",
        "\n",
        "print(\"X_area = \", np.hstack(X_1[:5,0]))\n",
        "print(\"X_bedrooms = \", np.hstack(X_1[:5,1]))\n",
        "print(\"X_bathrooms = \", np.hstack(X_1[:5,2]))\n",
        "print(\"X_stories = \", np.hstack(X_1[:5,3]))\n",
        "print(\"X_parking = \", np.hstack(X_1[:5,4]))\n",
        "print(\"Y = \", np.hstack(Y_1[:5]))\n",
        "print(\"m = \", m)\n",
        "print(\"n = \", n)"
      ],
      "metadata": {
        "colab": {
          "base_uri": "https://localhost:8080/",
          "height": 0
        },
        "id": "Yc96YqOHZg57",
        "outputId": "bcb609be-8c92-4ba6-9ef2-1ba7e740522a"
      },
      "execution_count": 4,
      "outputs": [
        {
          "output_type": "stream",
          "name": "stdout",
          "text": [
            "X_area =  [7420 8960 9960 7500 7420]\n",
            "X_bedrooms =  [4 4 3 4 4]\n",
            "X_bathrooms =  [2 4 2 2 1]\n",
            "X_stories =  [3 4 2 2 2]\n",
            "X_parking =  [2 3 2 3 2]\n",
            "Y =  [13300000 12250000 12250000 12215000 11410000]\n",
            "m =  436\n",
            "n =  109\n"
          ]
        }
      ]
    },
    {
      "cell_type": "markdown",
      "source": [
        "Using the input and output data gathered from the dataset, we now want to create randomized datasets for training and testing the model. This will be done using the `train_test_split` function from the `sklearn` library. For the train/test ratio, we'll be using an 80/20 split (as shown by variables `m` and `n` above respectively)\n",
        "\n"
      ],
      "metadata": {
        "id": "ondGjqIuBRBt"
      }
    },
    {
      "cell_type": "code",
      "source": [
        "from sklearn.model_selection import train_test_split\n",
        "X_train, X_test, Y_train, Y_test = train_test_split(X_1, Y_1, test_size = 0.20, random_state = 0)"
      ],
      "metadata": {
        "id": "mkjNAMTL_ODZ"
      },
      "execution_count": 5,
      "outputs": []
    },
    {
      "cell_type": "code",
      "source": [
        "# Creates a training table using input data X and stacks data together horizontally\n",
        "def ConstructData(X,m):\n",
        "  X_0 = np.ones((m,1))\n",
        "  X_1 = X[:m,0].reshape(m,1)\n",
        "  data = np.hstack((X_0,X_1))\n",
        "  if X.shape[1] > 1:\n",
        "    for i in range(1,X.shape[1]):\n",
        "      X_n = X[:m,i].reshape(m,1)\n",
        "      data = np.hstack((data,X_n)) # Construct feature matrix\n",
        "  return data"
      ],
      "metadata": {
        "id": "DO7ngbqGpsQe"
      },
      "execution_count": 6,
      "outputs": []
    },
    {
      "cell_type": "code",
      "source": [
        "def ComputeCost(X,Y,theta):\n",
        "  predictions = X.dot(theta)                  # Scales X array by current theta value\n",
        "  errors = np.subtract(predictions,Y)         # Computes the difference between every element of predictions[] and Y[]\n",
        "  square_errors = np.square(errors)           # Squares the resulting error\n",
        "  cost = (1/(2*m))*np.sum(square_errors)      # Computes the cost equation {(1/(2*m))*(predictions[]-Y[])^2}\n",
        "  return cost\n",
        "\n",
        "def GradientDescent(X,Y,theta,alpha,iterations):\n",
        "  cost_history = np.zeros(iterations)         # Initializes empty array of size \"iterations\"\n",
        "  for i in range(iterations):\n",
        "    predictions = X.dot(theta)                # Scales X array by current theta value\n",
        "    errors = np.subtract(predictions,Y)       # Computes the difference between every element of predictions[] and Y[]\n",
        "    sum_delta = (alpha/m)*X.T.dot(errors)     # Solves for the sum of delta functions (errors)\n",
        "    theta = theta - sum_delta                 # New theta is found by taking the difference between current value and solved delta value\n",
        "    cost_history[i] = ComputeCost(X,Y,theta)  # Computes the cost for the current theta value\n",
        "  return theta, cost_history"
      ],
      "metadata": {
        "id": "GikYPznMrTvX"
      },
      "execution_count": 7,
      "outputs": []
    },
    {
      "cell_type": "code",
      "source": [
        "# Construct Tables For Use in Linear Regression\n",
        "X_feature = ConstructData(X_train,m)\n",
        "X_test_feature = ConstructData(X_test,n)\n",
        "print(X_feature[:5])"
      ],
      "metadata": {
        "id": "4YsuYAhU83FF",
        "colab": {
          "base_uri": "https://localhost:8080/",
          "height": 0
        },
        "outputId": "ab1bd97c-c0e6-4842-a11c-d0da2cb70a78"
      },
      "execution_count": 8,
      "outputs": [
        {
          "output_type": "stream",
          "name": "stdout",
          "text": [
            "[[1.00e+00 3.62e+03 2.00e+00 1.00e+00 1.00e+00 0.00e+00]\n",
            " [1.00e+00 4.00e+03 2.00e+00 1.00e+00 1.00e+00 0.00e+00]\n",
            " [1.00e+00 3.04e+03 2.00e+00 1.00e+00 1.00e+00 0.00e+00]\n",
            " [1.00e+00 3.60e+03 2.00e+00 1.00e+00 1.00e+00 0.00e+00]\n",
            " [1.00e+00 9.86e+03 3.00e+00 1.00e+00 1.00e+00 0.00e+00]]\n"
          ]
        }
      ]
    },
    {
      "cell_type": "code",
      "source": [
        "iterations = 50\n",
        "alpha_values = np.arange(0.01,0.11,0.01)\n",
        "theta_values = np.zeros((1,len(alpha_values),X_feature.shape[1]))     # Construct 3D-array to hold each pair of theta values for every alpha and X\n",
        "training_cost_values = np.zeros((1,len(alpha_values),iterations))     # Construct 3D-array to hold each set of cost history for every alpha and X\n",
        "validation_cost_values = np.zeros((1,len(alpha_values),iterations))   # Construct 3D-array to hold each set of cost history for every alpha and X\n",
        "i = 0\n",
        "j = 0\n",
        "for alpha in alpha_values:\n",
        "  theta = theta_values[0,j]\n",
        "  theta, train_cost_history = GradientDescent(X_feature,Y_train,theta,alpha,iterations)\n",
        "  print(\"Theta \",i, ':',j,\" = \",theta)\n",
        "  theta_values[0,j] = theta\n",
        "  training_cost_values[0,j] = train_cost_history\n",
        "  theta, valid_cost_history = GradientDescent(X_test_feature,Y_test,theta,alpha,iterations)\n",
        "  validation_cost_values[0,j] = valid_cost_history\n",
        "  j = j+1\n",
        "print(\"Finished Computation\")"
      ],
      "metadata": {
        "colab": {
          "base_uri": "https://localhost:8080/",
          "height": 0
        },
        "outputId": "427c0368-8cb7-49fd-a0b3-ccf2b90c4497",
        "id": "HQ8GFHhZ0xlu"
      },
      "execution_count": 9,
      "outputs": [
        {
          "output_type": "stream",
          "name": "stdout",
          "text": [
            "Theta  0 : 0  =  [-6.24496011e+273 -3.77065265e+277 -1.88105732e+274 -8.21337416e+273\n",
            " -1.15361933e+274 -5.22642805e+273]\n",
            "Theta  0 : 1  =  [-7.03176515e+288 -4.24571869e+292 -2.11805249e+289 -9.24818048e+288\n",
            " -1.29896430e+289 -5.88490783e+288]\n",
            "Theta  0 : 2  =  [-4.48372477e+297 -2.70723405e+301 -1.35055199e+298 -5.89699670e+297\n",
            " -8.28269753e+297 -3.75244429e+297]\n",
            "Theta  0 : 3  =  [-7.91738190e+303             -inf             -inf -1.04129440e+304\n",
            " -1.46256255e+304 -6.62608345e+303]\n",
            "Theta  0 : 4  =  [-inf  nan -inf -inf -inf  nan]\n",
            "Theta  0 : 5  =  [nan nan nan nan nan nan]\n",
            "Theta  0 : 6  =  [nan nan nan nan nan nan]\n",
            "Theta  0 : 7  =  [nan nan nan nan nan nan]\n",
            "Theta  0 : 8  =  [nan nan nan nan nan nan]\n",
            "Theta  0 : 9  =  [nan nan nan nan nan nan]\n",
            "Finished Computation\n"
          ]
        },
        {
          "output_type": "stream",
          "name": "stderr",
          "text": [
            "<ipython-input-7-13e5b3847093>:4: RuntimeWarning: overflow encountered in square\n",
            "  square_errors = np.square(errors)           # Squares the resulting error\n",
            "<ipython-input-7-13e5b3847093>:14: RuntimeWarning: invalid value encountered in subtract\n",
            "  theta = theta - sum_delta                 # New theta is found by taking the difference between current value and solved delta value\n",
            "/usr/local/lib/python3.10/dist-packages/numpy/core/fromnumeric.py:88: RuntimeWarning: overflow encountered in reduce\n",
            "  return ufunc.reduce(obj, axis, dtype, out, **passkwargs)\n"
          ]
        }
      ]
    },
    {
      "cell_type": "code",
      "source": [
        "def PlotLinearRegression(X,Y,theta,x_label,y_label,title):\n",
        "  plt.scatter(X[:,1], Y, color='b', marker= '+', label= 'Training Data')\n",
        "  plt.plot(X[:,1],X.dot(theta), color='r', label='Linear Regression')     # Construct best-fit line using theta values determined by training\n",
        "  plt.rcParams[\"figure.figsize\"] = (6,4)\n",
        "\n",
        "  plt.xlabel(x_label)\n",
        "  plt.ylabel(y_label)\n",
        "  plt.title(title)\n",
        "  plt.legend()\n",
        "\n",
        "  # Print final graph\n",
        "  plt.show()\n",
        "  return\n",
        "\n",
        "def PlotLoss(training_cost_history,validation_cost_history,iterations,x_label,y_label,title):\n",
        "  plt.plot(range(iterations),training_cost_history, color='b', label= 'Training Loss')\n",
        "  plt.plot(range(iterations),validation_cost_history, color='r', label= 'Validation Loss')\n",
        "  plt.rcParams[\"figure.figsize\"] = (6,4)\n",
        "  plt.legend()\n",
        "\n",
        "  plt.xlabel(x_label)\n",
        "  plt.ylabel(y_label)\n",
        "  plt.title(title)\n",
        "\n",
        "  # Print final graph\n",
        "  plt.show()\n",
        "  return\n",
        "\n",
        "# Find minimum value from cost history\n",
        "def FindMinCost(cost_values):\n",
        "  cost_min = cost_values[0,0,0]\n",
        "  cost_index = np.zeros((1,2))\n",
        "  for i in range(0,np.shape(cost_values)[0]):\n",
        "    for j in range(0,np.shape(cost_values)[1]):\n",
        "      test_min = np.min(cost_values[i,j])\n",
        "      if test_min < cost_min:\n",
        "        cost_min = test_min\n",
        "        cost_index = np.array([i,j])\n",
        "  return cost_min, cost_index\n",
        "\n",
        "cost_min, cost_index = FindMinCost(training_cost_values)\n",
        "print(\"Cost Index = \",cost_index)\n",
        "print(\"Minimum Cost = \",cost_min)\n",
        "\n",
        "PlotLoss(training_cost_values[0,9],training_cost_values[0,9]-validation_cost_values[0,9],iterations,\"Iterations\",\"Loss\",\"Training and Validation Loss\")"
      ],
      "metadata": {
        "id": "xccBUqOlHuZ3",
        "colab": {
          "base_uri": "https://localhost:8080/",
          "height": 527
        },
        "outputId": "1dc48d60-13e4-4733-a071-039fdc3e3b87"
      },
      "execution_count": 10,
      "outputs": [
        {
          "output_type": "stream",
          "name": "stdout",
          "text": [
            "Cost Index =  [[0. 0.]]\n",
            "Minimum Cost =  1.1155762100423009e+24\n"
          ]
        },
        {
          "output_type": "display_data",
          "data": {
            "text/plain": [
              "<Figure size 640x480 with 1 Axes>"
            ],
            "image/png": "[encoded data removed]"
          },
          "metadata": {}
        }
      ]
    },
    {
      "cell_type": "markdown",
      "source": [
        "1.b) Develop a gradient decent training and evaluation code, from scratch, that predicts housing price based on the following input variables:\n",
        "\n",
        "Area, bedrooms, bathrooms, stories, mainroad, guestroom, basement, hotwaterheating, airconditioning, parking, prefarea\n",
        "\n",
        "Identify the best parameters for your linear regression model, based on the above input variables.\n",
        "\n",
        "Plot the training and validation losses (in a single graph, but two different lines) over your training iteration. Compare your linear regression model against problem 1 a. For the learning rate, explore different values between 0.1 and 0.01 (your choice). Initialize your parameters (thetas to zero). For the training iteration, choose what you believe fits the best."
      ],
      "metadata": {
        "id": "3_z3I00p5KVt"
      }
    },
    {
      "cell_type": "code",
      "source": [
        "dataset.head()"
      ],
      "metadata": {
        "colab": {
          "base_uri": "https://localhost:8080/",
          "height": 226
        },
        "outputId": "f421a719-524d-4a2a-adf9-3eef97f39318",
        "id": "2W8RVPv25mv2"
      },
      "execution_count": 11,
      "outputs": [
        {
          "output_type": "execute_result",
          "data": {
            "text/plain": [
              "      price  area  bedrooms  bathrooms  stories mainroad guestroom basement  \\\n",
              "0  13300000  7420         4          2        3      yes        no       no   \n",
              "1  12250000  8960         4          4        4      yes        no       no   \n",
              "2  12250000  9960         3          2        2      yes        no      yes   \n",
              "3  12215000  7500         4          2        2      yes        no      yes   \n",
              "4  11410000  7420         4          1        2      yes       yes      yes   \n",
              "\n",
              "  hotwaterheating airconditioning  parking prefarea furnishingstatus  \n",
              "0              no             yes        2      yes        furnished  \n",
              "1              no             yes        3       no        furnished  \n",
              "2              no              no        2      yes   semi-furnished  \n",
              "3              no             yes        3      yes        furnished  \n",
              "4              no             yes        2       no        furnished  "
            ],
            "text/html": [
              "\n",
              "  <div id=\"df-8cd74fe6-eca9-4afd-b76c-ac136314ddd4\" class=\"colab-df-container\">\n",
              "    <div>\n",
              "<style scoped>\n",
              "    .dataframe tbody tr th:only-of-type {\n",
              "        vertical-align: middle;\n",
              "    }\n",
              "\n",
              "    .dataframe tbody tr th {\n",
              "        vertical-align: top;\n",
              "    }\n",
              "\n",
              "    .dataframe thead th {\n",
              "        text-align: right;\n",
              "    }\n",
              "</style>\n",
              "<table border=\"1\" class=\"dataframe\">\n",
              "  <thead>\n",
              "    <tr style=\"text-align: right;\">\n",
              "      <th></th>\n",
              "      <th>price</th>\n",
              "      <th>area</th>\n",
              "      <th>bedrooms</th>\n",
              "      <th>bathrooms</th>\n",
              "      <th>stories</th>\n",
              "      <th>mainroad</th>\n",
              "      <th>guestroom</th>\n",
              "      <th>basement</th>\n",
              "      <th>hotwaterheating</th>\n",
              "      <th>airconditioning</th>\n",
              "      <th>parking</th>\n",
              "      <th>prefarea</th>\n",
              "      <th>furnishingstatus</th>\n",
              "    </tr>\n",
              "  </thead>\n",
              "  <tbody>\n",
              "    <tr>\n",
              "      <th>0</th>\n",
              "      <td>13300000</td>\n",
              "      <td>7420</td>\n",
              "      <td>4</td>\n",
              "      <td>2</td>\n",
              "      <td>3</td>\n",
              "      <td>yes</td>\n",
              "      <td>no</td>\n",
              "      <td>no</td>\n",
              "      <td>no</td>\n",
              "      <td>yes</td>\n",
              "      <td>2</td>\n",
              "      <td>yes</td>\n",
              "      <td>furnished</td>\n",
              "    </tr>\n",
              "    <tr>\n",
              "      <th>1</th>\n",
              "      <td>12250000</td>\n",
              "      <td>8960</td>\n",
              "      <td>4</td>\n",
              "      <td>4</td>\n",
              "      <td>4</td>\n",
              "      <td>yes</td>\n",
              "      <td>no</td>\n",
              "      <td>no</td>\n",
              "      <td>no</td>\n",
              "      <td>yes</td>\n",
              "      <td>3</td>\n",
              "      <td>no</td>\n",
              "      <td>furnished</td>\n",
              "    </tr>\n",
              "    <tr>\n",
              "      <th>2</th>\n",
              "      <td>12250000</td>\n",
              "      <td>9960</td>\n",
              "      <td>3</td>\n",
              "      <td>2</td>\n",
              "      <td>2</td>\n",
              "      <td>yes</td>\n",
              "      <td>no</td>\n",
              "      <td>yes</td>\n",
              "      <td>no</td>\n",
              "      <td>no</td>\n",
              "      <td>2</td>\n",
              "      <td>yes</td>\n",
              "      <td>semi-furnished</td>\n",
              "    </tr>\n",
              "    <tr>\n",
              "      <th>3</th>\n",
              "      <td>12215000</td>\n",
              "      <td>7500</td>\n",
              "      <td>4</td>\n",
              "      <td>2</td>\n",
              "      <td>2</td>\n",
              "      <td>yes</td>\n",
              "      <td>no</td>\n",
              "      <td>yes</td>\n",
              "      <td>no</td>\n",
              "      <td>yes</td>\n",
              "      <td>3</td>\n",
              "      <td>yes</td>\n",
              "      <td>furnished</td>\n",
              "    </tr>\n",
              "    <tr>\n",
              "      <th>4</th>\n",
              "      <td>11410000</td>\n",
              "      <td>7420</td>\n",
              "      <td>4</td>\n",
              "      <td>1</td>\n",
              "      <td>2</td>\n",
              "      <td>yes</td>\n",
              "      <td>yes</td>\n",
              "      <td>yes</td>\n",
              "      <td>no</td>\n",
              "      <td>yes</td>\n",
              "      <td>2</td>\n",
              "      <td>no</td>\n",
              "      <td>furnished</td>\n",
              "    </tr>\n",
              "  </tbody>\n",
              "</table>\n",
              "</div>\n",
              "    <div class=\"colab-df-buttons\">\n",
              "\n",
              "  <div class=\"colab-df-container\">\n",
              "    <button class=\"colab-df-convert\" onclick=\"convertToInteractive('df-8cd74fe6-eca9-4afd-b76c-ac136314ddd4')\"\n",
              "            title=\"Convert this dataframe to an interactive table.\"\n",
              "            style=\"display:none;\">\n",
              "\n",
              "  <svg xmlns=\"http://www.w3.org/2000/svg\" height=\"24px\" viewBox=\"0 -960 960 960\">\n",
              "    <path d=\"M120-120v-720h720v720H120Zm60-500h600v-160H180v160Zm220 220h160v-160H400v160Zm0 220h160v-160H400v160ZM180-400h160v-160H180v160Zm440 0h160v-160H620v160ZM180-180h160v-160H180v160Zm440 0h160v-160H620v160Z\"/>\n",
              "  </svg>\n",
              "    </button>\n",
              "\n",
              "  <style>\n",
              "    .colab-df-container {\n",
              "      display:flex;\n",
              "      gap: 12px;\n",
              "    }\n",
              "\n",
              "    .colab-df-convert {\n",
              "      background-color: #E8F0FE;\n",
              "      border: none;\n",
              "      border-radius: 50%;\n",
              "      cursor: pointer;\n",
              "      display: none;\n",
              "      fill: #1967D2;\n",
              "      height: 32px;\n",
              "      padding: 0 0 0 0;\n",
              "      width: 32px;\n",
              "    }\n",
              "\n",
              "    .colab-df-convert:hover {\n",
              "      background-color: #E2EBFA;\n",
              "      box-shadow: 0px 1px 2px rgba(60, 64, 67, 0.3), 0px 1px 3px 1px rgba(60, 64, 67, 0.15);\n",
              "      fill: #174EA6;\n",
              "    }\n",
              "\n",
              "    .colab-df-buttons div {\n",
              "      margin-bottom: 4px;\n",
              "    }\n",
              "\n",
              "    [theme=dark] .colab-df-convert {\n",
              "      background-color: #3B4455;\n",
              "      fill: #D2E3FC;\n",
              "    }\n",
              "\n",
              "    [theme=dark] .colab-df-convert:hover {\n",
              "      background-color: #434B5C;\n",
              "      box-shadow: 0px 1px 3px 1px rgba(0, 0, 0, 0.15);\n",
              "      filter: drop-shadow(0px 1px 2px rgba(0, 0, 0, 0.3));\n",
              "      fill: #FFFFFF;\n",
              "    }\n",
              "  </style>\n",
              "\n",
              "    <script>\n",
              "      const buttonEl =\n",
              "        document.querySelector('#df-8cd74fe6-eca9-4afd-b76c-ac136314ddd4 button.colab-df-convert');\n",
              "      buttonEl.style.display =\n",
              "        google.colab.kernel.accessAllowed ? 'block' : 'none';\n",
              "\n",
              "      async function convertToInteractive(key) {\n",
              "        const element = document.querySelector('#df-8cd74fe6-eca9-4afd-b76c-ac136314ddd4');\n",
              "        const dataTable =\n",
              "          await google.colab.kernel.invokeFunction('convertToInteractive',\n",
              "                                                    [key], {});\n",
              "        if (!dataTable) return;\n",
              "\n",
              "        const docLinkHtml = 'Like what you see? Visit the ' +\n",
              "          '<a target=\"_blank\" href=https://colab.research.google.com/notebooks/data_table.ipynb>data table notebook</a>'\n",
              "          + ' to learn more about interactive tables.';\n",
              "        element.innerHTML = '';\n",
              "        dataTable['output_type'] = 'display_data';\n",
              "        await google.colab.output.renderOutput(dataTable, element);\n",
              "        const docLink = document.createElement('div');\n",
              "        docLink.innerHTML = docLinkHtml;\n",
              "        element.appendChild(docLink);\n",
              "      }\n",
              "    </script>\n",
              "  </div>\n",
              "\n",
              "\n",
              "<div id=\"df-5dc71159-5ad9-4f7c-9c6b-958f8a55e9be\">\n",
              "  <button class=\"colab-df-quickchart\" onclick=\"quickchart('df-5dc71159-5ad9-4f7c-9c6b-958f8a55e9be')\"\n",
              "            title=\"Suggest charts\"\n",
              "            style=\"display:none;\">\n",
              "\n",
              "<svg xmlns=\"http://www.w3.org/2000/svg\" height=\"24px\"viewBox=\"0 0 24 24\"\n",
              "     width=\"24px\">\n",
              "    <g>\n",
              "        <path d=\"M19 3H5c-1.1 0-2 .9-2 2v14c0 1.1.9 2 2 2h14c1.1 0 2-.9 2-2V5c0-1.1-.9-2-2-2zM9 17H7v-7h2v7zm4 0h-2V7h2v10zm4 0h-2v-4h2v4z\"/>\n",
              "    </g>\n",
              "</svg>\n",
              "  </button>\n",
              "\n",
              "<style>\n",
              "  .colab-df-quickchart {\n",
              "      --bg-color: #E8F0FE;\n",
              "      --fill-color: #1967D2;\n",
              "      --hover-bg-color: #E2EBFA;\n",
              "      --hover-fill-color: #174EA6;\n",
              "      --disabled-fill-color: #AAA;\n",
              "      --disabled-bg-color: #DDD;\n",
              "  }\n",
              "\n",
              "  [theme=dark] .colab-df-quickchart {\n",
              "      --bg-color: #3B4455;\n",
              "      --fill-color: #D2E3FC;\n",
              "      --hover-bg-color: #434B5C;\n",
              "      --hover-fill-color: #FFFFFF;\n",
              "      --disabled-bg-color: #3B4455;\n",
              "      --disabled-fill-color: #666;\n",
              "  }\n",
              "\n",
              "  .colab-df-quickchart {\n",
              "    background-color: var(--bg-color);\n",
              "    border: none;\n",
              "    border-radius: 50%;\n",
              "    cursor: pointer;\n",
              "    display: none;\n",
              "    fill: var(--fill-color);\n",
              "    height: 32px;\n",
              "    padding: 0;\n",
              "    width: 32px;\n",
              "  }\n",
              "\n",
              "  .colab-df-quickchart:hover {\n",
              "    background-color: var(--hover-bg-color);\n",
              "    box-shadow: 0 1px 2px rgba(60, 64, 67, 0.3), 0 1px 3px 1px rgba(60, 64, 67, 0.15);\n",
              "    fill: var(--button-hover-fill-color);\n",
              "  }\n",
              "\n",
              "  .colab-df-quickchart-complete:disabled,\n",
              "  .colab-df-quickchart-complete:disabled:hover {\n",
              "    background-color: var(--disabled-bg-color);\n",
              "    fill: var(--disabled-fill-color);\n",
              "    box-shadow: none;\n",
              "  }\n",
              "\n",
              "  .colab-df-spinner {\n",
              "    border: 2px solid var(--fill-color);\n",
              "    border-color: transparent;\n",
              "    border-bottom-color: var(--fill-color);\n",
              "    animation:\n",
              "      spin 1s steps(1) infinite;\n",
              "  }\n",
              "\n",
              "  @keyframes spin {\n",
              "    0% {\n",
              "      border-color: transparent;\n",
              "      border-bottom-color: var(--fill-color);\n",
              "      border-left-color: var(--fill-color);\n",
              "    }\n",
              "    20% {\n",
              "      border-color: transparent;\n",
              "      border-left-color: var(--fill-color);\n",
              "      border-top-color: var(--fill-color);\n",
              "    }\n",
              "    30% {\n",
              "      border-color: transparent;\n",
              "      border-left-color: var(--fill-color);\n",
              "      border-top-color: var(--fill-color);\n",
              "      border-right-color: var(--fill-color);\n",
              "    }\n",
              "    40% {\n",
              "      border-color: transparent;\n",
              "      border-right-color: var(--fill-color);\n",
              "      border-top-color: var(--fill-color);\n",
              "    }\n",
              "    60% {\n",
              "      border-color: transparent;\n",
              "      border-right-color: var(--fill-color);\n",
              "    }\n",
              "    80% {\n",
              "      border-color: transparent;\n",
              "      border-right-color: var(--fill-color);\n",
              "      border-bottom-color: var(--fill-color);\n",
              "    }\n",
              "    90% {\n",
              "      border-color: transparent;\n",
              "      border-bottom-color: var(--fill-color);\n",
              "    }\n",
              "  }\n",
              "</style>\n",
              "\n",
              "  <script>\n",
              "    async function quickchart(key) {\n",
              "      const quickchartButtonEl =\n",
              "        document.querySelector('#' + key + ' button');\n",
              "      quickchartButtonEl.disabled = true;  // To prevent multiple clicks.\n",
              "      quickchartButtonEl.classList.add('colab-df-spinner');\n",
              "      try {\n",
              "        const charts = await google.colab.kernel.invokeFunction(\n",
              "            'suggestCharts', [key], {});\n",
              "      } catch (error) {\n",
              "        console.error('Error during call to suggestCharts:', error);\n",
              "      }\n",
              "      quickchartButtonEl.classList.remove('colab-df-spinner');\n",
              "      quickchartButtonEl.classList.add('colab-df-quickchart-complete');\n",
              "    }\n",
              "    (() => {\n",
              "      let quickchartButtonEl =\n",
              "        document.querySelector('#df-5dc71159-5ad9-4f7c-9c6b-958f8a55e9be button');\n",
              "      quickchartButtonEl.style.display =\n",
              "        google.colab.kernel.accessAllowed ? 'block' : 'none';\n",
              "    })();\n",
              "  </script>\n",
              "</div>\n",
              "\n",
              "    </div>\n",
              "  </div>\n"
            ],
            "application/vnd.google.colaboratory.intrinsic+json": {
              "type": "dataframe",
              "variable_name": "dataset",
              "summary": "{\n  \"name\": \"dataset\",\n  \"rows\": 545,\n  \"fields\": [\n    {\n      \"column\": \"price\",\n      \"properties\": {\n        \"dtype\": \"number\",\n        \"std\": 1870439,\n        \"min\": 1750000,\n        \"max\": 13300000,\n        \"num_unique_values\": 219,\n        \"samples\": [\n          3773000,\n          5285000,\n          1820000\n        ],\n        \"semantic_type\": \"\",\n        \"description\": \"\"\n      }\n    },\n    {\n      \"column\": \"area\",\n      \"properties\": {\n        \"dtype\": \"number\",\n        \"std\": 2170,\n        \"min\": 1650,\n        \"max\": 16200,\n        \"num_unique_values\": 284,\n        \"samples\": [\n          6000,\n          2684,\n          5360\n        ],\n        \"semantic_type\": \"\",\n        \"description\": \"\"\n      }\n    },\n    {\n      \"column\": \"bedrooms\",\n      \"properties\": {\n        \"dtype\": \"number\",\n        \"std\": 0,\n        \"min\": 1,\n        \"max\": 6,\n        \"num_unique_values\": 6,\n        \"samples\": [\n          4,\n          3,\n          1\n        ],\n        \"semantic_type\": \"\",\n        \"description\": \"\"\n      }\n    },\n    {\n      \"column\": \"bathrooms\",\n      \"properties\": {\n        \"dtype\": \"number\",\n        \"std\": 0,\n        \"min\": 1,\n        \"max\": 4,\n        \"num_unique_values\": 4,\n        \"samples\": [\n          4,\n          3,\n          2\n        ],\n        \"semantic_type\": \"\",\n        \"description\": \"\"\n      }\n    },\n    {\n      \"column\": \"stories\",\n      \"properties\": {\n        \"dtype\": \"number\",\n        \"std\": 0,\n        \"min\": 1,\n        \"max\": 4,\n        \"num_unique_values\": 4,\n        \"samples\": [\n          4,\n          1,\n          3\n        ],\n        \"semantic_type\": \"\",\n        \"description\": \"\"\n      }\n    },\n    {\n      \"column\": \"mainroad\",\n      \"properties\": {\n        \"dtype\": \"category\",\n        \"num_unique_values\": 2,\n        \"samples\": [\n          \"no\",\n          \"yes\"\n        ],\n        \"semantic_type\": \"\",\n        \"description\": \"\"\n      }\n    },\n    {\n      \"column\": \"guestroom\",\n      \"properties\": {\n        \"dtype\": \"category\",\n        \"num_unique_values\": 2,\n        \"samples\": [\n          \"yes\",\n          \"no\"\n        ],\n        \"semantic_type\": \"\",\n        \"description\": \"\"\n      }\n    },\n    {\n      \"column\": \"basement\",\n      \"properties\": {\n        \"dtype\": \"category\",\n        \"num_unique_values\": 2,\n        \"samples\": [\n          \"yes\",\n          \"no\"\n        ],\n        \"semantic_type\": \"\",\n        \"description\": \"\"\n      }\n    },\n    {\n      \"column\": \"hotwaterheating\",\n      \"properties\": {\n        \"dtype\": \"category\",\n        \"num_unique_values\": 2,\n        \"samples\": [\n          \"yes\",\n          \"no\"\n        ],\n        \"semantic_type\": \"\",\n        \"description\": \"\"\n      }\n    },\n    {\n      \"column\": \"airconditioning\",\n      \"properties\": {\n        \"dtype\": \"category\",\n        \"num_unique_values\": 2,\n        \"samples\": [\n          \"no\",\n          \"yes\"\n        ],\n        \"semantic_type\": \"\",\n        \"description\": \"\"\n      }\n    },\n    {\n      \"column\": \"parking\",\n      \"properties\": {\n        \"dtype\": \"number\",\n        \"std\": 0,\n        \"min\": 0,\n        \"max\": 3,\n        \"num_unique_values\": 4,\n        \"samples\": [\n          3,\n          1\n        ],\n        \"semantic_type\": \"\",\n        \"description\": \"\"\n      }\n    },\n    {\n      \"column\": \"prefarea\",\n      \"properties\": {\n        \"dtype\": \"category\",\n        \"num_unique_values\": 2,\n        \"samples\": [\n          \"no\",\n          \"yes\"\n        ],\n        \"semantic_type\": \"\",\n        \"description\": \"\"\n      }\n    },\n    {\n      \"column\": \"furnishingstatus\",\n      \"properties\": {\n        \"dtype\": \"category\",\n        \"num_unique_values\": 3,\n        \"samples\": [\n          \"furnished\",\n          \"semi-furnished\"\n        ],\n        \"semantic_type\": \"\",\n        \"description\": \"\"\n      }\n    }\n  ]\n}"
            }
          },
          "metadata": {},
          "execution_count": 11
        }
      ]
    },
    {
      "cell_type": "code",
      "source": [
        "def FactorizeData(X):\n",
        "  for i in range(0,X.shape[1]):\n",
        "    for j in range(0,X.shape[0]):\n",
        "      if X[j,i] == 'yes':\n",
        "        X[j,i] = 2\n",
        "      elif X[j,i] == 'no':\n",
        "        X[j,i] = 1\n",
        "      else:\n",
        "        X[j,i] = X[j,i]\n",
        "  return X"
      ],
      "metadata": {
        "id": "LHJq-M2q9MSY"
      },
      "execution_count": 12,
      "outputs": []
    },
    {
      "cell_type": "code",
      "source": [
        "X_2 = dataset.iloc[:,[1,2,3,4,5,6,7,8,9,10,11]].values  # Get input values from each explanatory variable\n",
        "X_2 = FactorizeData(X_2)\n",
        "Y_2 = dataset.iloc[:,0].values                          # Get output values (Price of Housing)\n",
        "m_2 = int(np.floor(len(X_2)*0.8))                         # Number of training examples\n",
        "n_2 = int(np.floor(len(X_2)*0.2))                         # Number of validation examples\n",
        "\n",
        "print(\"X_area = \", np.hstack(X_2[:5,0]))\n",
        "print(\"X_bedrooms = \", np.hstack(X_2[:5,1]))\n",
        "print(\"X_bathrooms = \", np.hstack(X_2[:5,2]))\n",
        "print(\"X_stories = \", np.hstack(X_2[:5,3]))\n",
        "print(\"X_mainroad = \", np.hstack(X_2[:5,4]))\n",
        "print(\"X_guestroom = \", np.hstack(X_2[:5,5]))\n",
        "print(\"X_basement = \", np.hstack(X_2[:5,6]))\n",
        "print(\"X_hotwaterheating = \", np.hstack(X_2[:5,7]))\n",
        "print(\"X_airconditioning = \", np.hstack(X_2[:5,8]))\n",
        "print(\"X_parking = \", np.hstack(X_2[:5,9]))\n",
        "print(\"X_prefarea = \", np.hstack(X_2[:5,10]))\n",
        "print(\"Y = \", np.hstack(Y_2[:5]))\n",
        "print(\"m = \", m_2)\n",
        "print(\"n = \", n_2)"
      ],
      "metadata": {
        "colab": {
          "base_uri": "https://localhost:8080/",
          "height": 0
        },
        "outputId": "b2604bc1-91b6-49f0-9416-578ad5d9a328",
        "id": "1vzEuqtM5c6f"
      },
      "execution_count": 13,
      "outputs": [
        {
          "output_type": "stream",
          "name": "stdout",
          "text": [
            "X_area =  [7420 8960 9960 7500 7420]\n",
            "X_bedrooms =  [4 4 3 4 4]\n",
            "X_bathrooms =  [2 4 2 2 1]\n",
            "X_stories =  [3 4 2 2 2]\n",
            "X_mainroad =  [2 2 2 2 2]\n",
            "X_guestroom =  [1 1 1 1 2]\n",
            "X_basement =  [1 1 2 2 2]\n",
            "X_hotwaterheating =  [1 1 1 1 1]\n",
            "X_airconditioning =  [2 2 1 2 2]\n",
            "X_parking =  [2 3 2 3 2]\n",
            "X_prefarea =  [2 1 2 2 1]\n",
            "Y =  [13300000 12250000 12250000 12215000 11410000]\n",
            "m =  436\n",
            "n =  109\n"
          ]
        }
      ]
    },
    {
      "cell_type": "code",
      "source": [
        "X_train, X_test, Y_train, Y_test = train_test_split(X_2, Y_2, test_size = 0.20, random_state = 0)\n",
        "X_feature = ConstructData(X_train,m_2)\n",
        "X_test_feature = ConstructData(X_test,n_2)\n",
        "print(X_feature[:5])"
      ],
      "metadata": {
        "colab": {
          "base_uri": "https://localhost:8080/",
          "height": 0
        },
        "id": "sjMoYtGt6Tah",
        "outputId": "5c3539b4-cdd3-4b3a-96c7-cc331fcaf977"
      },
      "execution_count": 14,
      "outputs": [
        {
          "output_type": "stream",
          "name": "stdout",
          "text": [
            "[[1.0 3620 2 1 1 2 1 1 1 1 0 1]\n",
            " [1.0 4000 2 1 1 2 1 1 1 1 0 1]\n",
            " [1.0 3040 2 1 1 1 1 1 1 1 0 1]\n",
            " [1.0 3600 2 1 1 2 1 1 1 1 0 1]\n",
            " [1.0 9860 3 1 1 2 1 1 1 1 0 1]]\n"
          ]
        }
      ]
    },
    {
      "cell_type": "code",
      "source": [
        "iterations = 50\n",
        "alpha_values = np.arange(0.01,0.11,0.01)\n",
        "theta_values = np.zeros((1,len(alpha_values),X_feature.shape[1]))     # Construct 3D-array to hold each pair of theta values for every alpha and X\n",
        "training_cost_values = np.zeros((1,len(alpha_values),iterations))     # Construct 3D-array to hold each set of cost history for every alpha and X\n",
        "validation_cost_values = np.zeros((1,len(alpha_values),iterations))   # Construct 3D-array to hold each set of cost history for every alpha and X\n",
        "i = 0\n",
        "j = 0\n",
        "for alpha in alpha_values:\n",
        "  theta = theta_values[0,j]\n",
        "  theta, train_cost_history = GradientDescent(X_feature,Y_train,theta,alpha,iterations)\n",
        "  print(\"Theta \",i, ':',j,\" = \",theta)\n",
        "  theta_values[0,j] = theta\n",
        "  training_cost_values[0,j] = train_cost_history\n",
        "  theta, valid_cost_history = GradientDescent(X_test_feature,Y_test,theta,alpha,iterations)\n",
        "  validation_cost_values[0,j] = valid_cost_history\n",
        "  j = j+1\n",
        "print(\"Finished Computation\")"
      ],
      "metadata": {
        "colab": {
          "base_uri": "https://localhost:8080/",
          "height": 0
        },
        "outputId": "468473f2-5898-4117-ed7a-0a2908da30fb",
        "id": "pqwBCV236opk"
      },
      "execution_count": 15,
      "outputs": [
        {
          "output_type": "stream",
          "name": "stdout",
          "text": [
            "Theta  0 : 0  =  [-6.245057001158217e+273 -3.770710970529665e+277 -1.8810864944538636e+274\n",
            " -8.213501545439482e+273 -1.1536372267981412e+274 -1.1885000939207204e+274\n",
            " -7.498429161034041e+273 -8.370630446546976e+273 -6.471857263452941e+273\n",
            " -8.542803998530384e+273 -5.226508936983253e+273 -8.098781932682301e+273]\n"
          ]
        },
        {
          "output_type": "stream",
          "name": "stderr",
          "text": [
            "<ipython-input-7-13e5b3847093>:4: RuntimeWarning: overflow encountered in square\n",
            "  square_errors = np.square(errors)           # Squares the resulting error\n",
            "<ipython-input-7-13e5b3847093>:14: RuntimeWarning: invalid value encountered in subtract\n",
            "  theta = theta - sum_delta                 # New theta is found by taking the difference between current value and solved delta value\n"
          ]
        },
        {
          "output_type": "stream",
          "name": "stdout",
          "text": [
            "Theta  0 : 1  =  [-7.031874247838778e+288 -4.245784364304953e+292 -2.1180853394699623e+289\n",
            " -9.248323913016083e+288 -1.2989844456128245e+289 -1.3382396994046838e+289\n",
            " -8.443159270914533e+288 -9.425249547655459e+288 -7.287249166520477e+288\n",
            " -9.619115314793617e+288 -5.884998902853193e+288 -9.119150730045985e+288]\n",
            "Theta  0 : 2  =  [-4.4837943312214714e+297 -2.707275925776162e+301 -1.3505729345312998e+298\n",
            " -5.897088155014479e+297 -8.282826012387444e+297 -8.533132656418655e+297\n",
            " -5.383684113543679e+297 -6.009902765982189e+297 -4.646631232503242e+297\n",
            " -6.13351905903224e+297 -3.752502361367978e+297 -5.81472234966392e+297]\n",
            "Theta "
          ]
        },
        {
          "output_type": "stream",
          "name": "stderr",
          "text": [
            "/usr/local/lib/python3.10/dist-packages/numpy/core/fromnumeric.py:88: RuntimeWarning: overflow encountered in reduce\n",
            "  return ufunc.reduce(obj, axis, dtype, out, **passkwargs)\n"
          ]
        },
        {
          "output_type": "stream",
          "name": "stdout",
          "text": [
            " 0 : 3  =  [-7.917504731662395e+303 -inf -inf -1.0413105490866296e+304\n",
            " -1.462585241432095e+304 -1.5067845042012148e+304 -9.50653426406064e+303\n",
            " -1.0612314051775939e+304 -8.205042883760562e+303 -1.083059627277776e+304\n",
            " -6.626185994934258e+303 -1.0267663571496942e+304]\n",
            "Theta  0 : 4  =  [-inf nan -inf -inf -inf -inf -inf -inf -inf -inf nan -inf]\n",
            "Theta  0 : 5  =  [nan nan nan nan nan nan nan nan nan nan nan nan]\n",
            "Theta  0 : 6  =  [nan nan nan nan nan nan nan nan nan nan nan nan]\n",
            "Theta  0 : 7  =  [nan nan nan nan nan nan nan nan nan nan nan nan]\n",
            "Theta  0 : 8  =  [nan nan nan nan nan nan nan nan nan nan nan nan]\n",
            "Theta  0 : 9  =  [nan nan nan nan nan nan nan nan nan nan nan nan]\n",
            "Finished Computation\n"
          ]
        }
      ]
    },
    {
      "cell_type": "code",
      "source": [
        "PlotLoss(training_cost_values[0,9],training_cost_values[0,9]-validation_cost_values[0,9],iterations,\"Iterations\",\"Loss\",\"Training and Validation Loss\")"
      ],
      "metadata": {
        "colab": {
          "base_uri": "https://localhost:8080/",
          "height": 430
        },
        "id": "6s5WBmgJ6uE0",
        "outputId": "09aafe68-42e1-49ce-fceb-8878bf1b73aa"
      },
      "execution_count": 16,
      "outputs": [
        {
          "output_type": "display_data",
          "data": {
            "text/plain": [
              "<Figure size 600x400 with 1 Axes>"
            ],
            "image/png": "[encoded data removed]"
          },
          "metadata": {}
        }
      ]
    },
    {
      "cell_type": "markdown",
      "source": [
        "Despite increasing the number of input parameters, the new loss graph remains largely the same to the original one. Thus, it can be concluded that increasing the number of input parameters does not necessarily increase the accuracy and efficiency of our model."
      ],
      "metadata": {
        "id": "PljDeUaJB0tL"
      }
    },
    {
      "cell_type": "markdown",
      "source": [
        "Problem 2 (30 points)\n",
        "\n",
        "2.a) Repeat problem 1 a, this time with input normalization and input standardization as part of your pre-processing logic. You need to perform two separate trainings for standardization and normalization. In both cases, you do not need to normalize the output!\n",
        "\n",
        "Plot the training and validation losses for both training and validation set based on input standardization and input normalization. Compare your training accuracy between both scaling approaches as well as the baseline training in problem 1 a. Which input scaling achieves the best training? Explain your results."
      ],
      "metadata": {
        "id": "oNhn0_lYCOrg"
      }
    },
    {
      "cell_type": "code",
      "source": [
        "X_train, X_test, Y_train, Y_test = train_test_split(X_1, Y_1, test_size = 0.20, random_state = 0)"
      ],
      "metadata": {
        "id": "epLf8H2CDE5p"
      },
      "execution_count": 17,
      "outputs": []
    },
    {
      "cell_type": "markdown",
      "source": [
        "Since there is a large amount of discrepency between the values within each of our inputs, the data will need to be standardized first. This will be done using the `StandardScaler` function from the `sklearn` library."
      ],
      "metadata": {
        "id": "q9Uq1hdkDKpf"
      }
    },
    {
      "cell_type": "code",
      "source": [
        "from sklearn.preprocessing import StandardScaler\n",
        "sc_X = StandardScaler()\n",
        "X_train = sc_X.fit_transform(X_train)\n",
        "X_test = sc_X.transform(X_test)"
      ],
      "metadata": {
        "id": "NXNVtfE-DJHn"
      },
      "execution_count": 18,
      "outputs": []
    },
    {
      "cell_type": "code",
      "source": [
        "# Construct Tables For Use in Linear Regression\n",
        "X_feature = ConstructData(X_train,m)\n",
        "X_test_feature = ConstructData(X_test,n)\n",
        "print(X_feature[:5])"
      ],
      "metadata": {
        "colab": {
          "base_uri": "https://localhost:8080/",
          "height": 0
        },
        "outputId": "f8e3086a-4532-462a-fa24-ec52ab527b21",
        "id": "oKCj8mPaCrZR"
      },
      "execution_count": 19,
      "outputs": [
        {
          "output_type": "stream",
          "name": "stdout",
          "text": [
            "[[ 1.         -0.71677205 -1.29437561 -0.57330726 -0.93314164 -0.81914879]\n",
            " [ 1.         -0.53893631 -1.29437561 -0.57330726 -0.93314164 -0.81914879]\n",
            " [ 1.         -0.98820554 -1.29437561 -0.57330726 -0.93314164 -0.81914879]\n",
            " [ 1.         -0.72613182 -1.29437561 -0.57330726 -0.93314164 -0.81914879]\n",
            " [ 1.          2.20347795  0.05251643 -0.57330726 -0.93314164 -0.81914879]]\n"
          ]
        }
      ]
    },
    {
      "cell_type": "code",
      "source": [
        "iterations = 50\n",
        "alpha_values = np.arange(0.01,0.11,0.01)\n",
        "theta_values = np.zeros((1,len(alpha_values),X_feature.shape[1]))     # Construct 3D-array to hold each pair of theta values for every alpha and X\n",
        "training_cost_values = np.zeros((1,len(alpha_values),iterations))     # Construuct 3D-array to hold each set of cost history for every alpha and X\n",
        "validation_cost_values = np.zeros((1,len(alpha_values),iterations))   # Construuct 3D-array to hold each set of cost history for every alpha and X\n",
        "test_cost = 0\n",
        "i = 0\n",
        "j = 0\n",
        "for alpha in alpha_values:\n",
        "  theta = theta_values[0,j]\n",
        "  theta, train_cost_history = GradientDescent(X_feature,Y_train,theta,alpha,iterations)\n",
        "  print(\"Theta \",i, ':',j,\" = \",theta)\n",
        "  theta_values[0,j] = theta\n",
        "  training_cost_values[0,j] = train_cost_history\n",
        "  theta, valid_cost_history = GradientDescent(X_test_feature,Y_test,theta,alpha,iterations)\n",
        "  validation_cost_values[0,j] = valid_cost_history\n",
        "  j = j+1\n",
        "print(\"Finished Computation\")"
      ],
      "metadata": {
        "colab": {
          "base_uri": "https://localhost:8080/",
          "height": 0
        },
        "outputId": "297e0904-d845-485a-acd1-8138986a9b46",
        "id": "H70ryAiXxDHC"
      },
      "execution_count": 20,
      "outputs": [
        {
          "output_type": "stream",
          "name": "stdout",
          "text": [
            "Theta  0 : 0  =  [1887136.91090731  354673.19029595  216766.97981342  318139.99515733\n",
            "  254847.34367758  228708.62194661]\n",
            "Theta  0 : 1  =  [3037765.3071431   525180.32032153  269366.17330814  450168.39727843\n",
            "  355616.98067174  310087.26726848]\n",
            "Theta  0 : 2  =  [3735798.37392633  612560.66043887  266922.59630833  507836.32168272\n",
            "  397730.31744078  333932.64835261]\n",
            "Theta  0 : 3  =  [4157088.24652032  660603.15741897  249719.76894955  535396.83637183\n",
            "  417602.60381907  336556.07218512]\n",
            "Theta  0 : 4  =  [4410020.16241174  688830.58082003  231479.57391801  550246.90951526\n",
            "  428769.1007707   332308.98818401]\n",
            "Theta  0 : 5  =  [4561061.5093767   706347.68710871  216114.42718487  559266.28230673\n",
            "  436157.52375819  326636.59112002]\n",
            "Theta  0 : 6  =  [4650764.75343643  717666.71409763  204165.27563044  565263.69726077\n",
            "  441568.32857289  321430.38528257]\n",
            "Theta  0 : 7  =  [4703742.00438748  725186.48794041  195174.397118    569473.93846348\n",
            "  445707.86020707  317202.8856484 ]\n",
            "Theta  0 : 8  =  [4734851.06381513  730274.06688866  188503.92659145  572510.01089534\n",
            "  448910.87341841  313961.86225995]\n",
            "Theta  0 : 9  =  [4753012.32572797  733756.56100764  183583.8773012   574723.34525326\n",
            "  451383.51691669  311555.81244899]\n",
            "Finished Computation\n"
          ]
        }
      ]
    },
    {
      "cell_type": "code",
      "source": [
        "cost_min, cost_index = FindMinCost(training_cost_values)\n",
        "print(\"Cost Index = \",cost_index)\n",
        "print(\"Minimum Cost = \",cost_min)\n",
        "PlotLoss(training_cost_values[0,cost_index[1]],training_cost_values[0,cost_index[1]]-validation_cost_values[0,cost_index[1]],iterations,\"Iterations\",\"Loss\",\"Training and Validation Loss\")"
      ],
      "metadata": {
        "colab": {
          "base_uri": "https://localhost:8080/",
          "height": 465
        },
        "id": "svg4YRs1DN_A",
        "outputId": "6f10bea7-cf94-4771-b344-618e2fa85fcd"
      },
      "execution_count": 21,
      "outputs": [
        {
          "output_type": "stream",
          "name": "stdout",
          "text": [
            "Cost Index =  [0 9]\n",
            "Minimum Cost =  813418819266.958\n"
          ]
        },
        {
          "output_type": "display_data",
          "data": {
            "text/plain": [
              "<Figure size 600x400 with 1 Axes>"
            ],
            "image/png": "[encoded data removed]"
          },
          "metadata": {}
        }
      ]
    },
    {
      "cell_type": "code",
      "source": [
        "validation_1 = training_cost_values[0,cost_index[1],-1]-validation_cost_values[0,cost_index[1],-1]"
      ],
      "metadata": {
        "id": "YIg47lPnXiLP"
      },
      "execution_count": 22,
      "outputs": []
    },
    {
      "cell_type": "markdown",
      "source": [
        "This time, we'll use normalization. For this, we need to include the `normalize` library.\n",
        "\n"
      ],
      "metadata": {
        "id": "Im8XM1qVIhli"
      }
    },
    {
      "cell_type": "code",
      "source": [
        "X_train, X_test, Y_train, Y_test = train_test_split(X_1, Y_1, test_size = 0.20, random_state = 0)"
      ],
      "metadata": {
        "id": "MSl8Jcf3J0IG"
      },
      "execution_count": 23,
      "outputs": []
    },
    {
      "cell_type": "code",
      "source": [
        "from sklearn.preprocessing import normalize\n",
        "X_train = normalize(X_train)\n",
        "X_test = normalize(X_test)"
      ],
      "metadata": {
        "id": "AS5j6rFfJEdw"
      },
      "execution_count": 24,
      "outputs": []
    },
    {
      "cell_type": "code",
      "source": [
        "# Construct Tables For Use in Linear Regression\n",
        "X_feature = ConstructData(X_train,m)\n",
        "X_test_feature = ConstructData(X_test,n)\n",
        "print(X_feature[:5])"
      ],
      "metadata": {
        "colab": {
          "base_uri": "https://localhost:8080/",
          "height": 0
        },
        "outputId": "66e40348-8f16-4448-99b3-3d29c19170a7",
        "id": "fcme6C_iJ36G"
      },
      "execution_count": 25,
      "outputs": [
        {
          "output_type": "stream",
          "name": "stdout",
          "text": [
            "[[1.00000000e+00 9.99999771e-01 5.52486061e-04 2.76243031e-04\n",
            "  2.76243031e-04 0.00000000e+00]\n",
            " [1.00000000e+00 9.99999813e-01 4.99999906e-04 2.49999953e-04\n",
            "  2.49999953e-04 0.00000000e+00]\n",
            " [1.00000000e+00 9.99999675e-01 6.57894523e-04 3.28947262e-04\n",
            "  3.28947262e-04 0.00000000e+00]\n",
            " [1.00000000e+00 9.99999769e-01 5.55555427e-04 2.77777713e-04\n",
            "  2.77777713e-04 0.00000000e+00]\n",
            " [1.00000000e+00 9.99999943e-01 3.04259618e-04 1.01419873e-04\n",
            "  1.01419873e-04 0.00000000e+00]]\n"
          ]
        }
      ]
    },
    {
      "cell_type": "code",
      "source": [
        "iterations = 50\n",
        "alpha_values = np.arange(0.01,0.11,0.01)\n",
        "theta_values = np.zeros((1,len(alpha_values),X_feature.shape[1]))     # Construct 3D-array to hold each pair of theta values for every alpha and X\n",
        "training_cost_values = np.zeros((1,len(alpha_values),iterations))     # Construuct 3D-array to hold each set of cost history for every alpha and X\n",
        "validation_cost_values = np.zeros((1,len(alpha_values),iterations))   # Construuct 3D-array to hold each set of cost history for every alpha and X\n",
        "i = 0\n",
        "j = 0\n",
        "for alpha in alpha_values:\n",
        "  theta = theta_values[0,j]\n",
        "  theta, train_cost_history = GradientDescent(X_feature,Y_train,theta,alpha,iterations)\n",
        "  print(\"Theta \",i, ':',j,\" = \",theta)\n",
        "  theta_values[0,j] = theta\n",
        "  training_cost_values[0,j] = train_cost_history\n",
        "  theta, valid_cost_history = GradientDescent(X_test_feature,Y_test,theta,alpha,iterations)\n",
        "  validation_cost_values[0,j] = valid_cost_history\n",
        "  j = j+1\n",
        "print(\"Finished Computation\")"
      ],
      "metadata": {
        "colab": {
          "base_uri": "https://localhost:8080/",
          "height": 0
        },
        "outputId": "f1ade53a-b090-4e8e-a780-3502255f7305",
        "id": "JdvUnIghJ9DT"
      },
      "execution_count": 26,
      "outputs": [
        {
          "output_type": "stream",
          "name": "stdout",
          "text": [
            "Theta  0 : 0  =  [1.51888271e+06 1.51888211e+06 9.23687053e+02 4.14230981e+02\n",
            " 5.95390314e+02 2.40989834e+02]\n",
            "Theta  0 : 1  =  [2.07854425e+06 2.07854347e+06 1.21725867e+03 5.59428252e+02\n",
            " 8.08010360e+02 3.50843358e+02]\n",
            "Theta  0 : 2  =  [2.28053092e+06 2.28053012e+06 1.27587253e+03 6.04308099e+02\n",
            " 8.77902841e+02 4.11798709e+02]\n",
            "Theta  0 : 3  =  [2.35187118e+06 2.35187042e+06 1.24866435e+03 6.12545421e+02\n",
            " 8.95661819e+02 4.54893229e+02]\n",
            "Theta  0 : 4  =  [2.37650635e+06 2.37650564e+06 1.19077545e+03 6.07683318e+02\n",
            " 8.94783468e+02 4.91602636e+02]\n",
            "Theta  0 : 5  =  [2.38481541e+06 2.38481476e+06 1.12216188e+03 5.98242218e+02\n",
            " 8.87390305e+02 5.26080081e+02]\n",
            "Theta  0 : 6  =  [2.38754981e+06 2.38754922e+06 1.04988631e+03 5.87237588e+02\n",
            " 8.77772616e+02 5.59795406e+02]\n",
            "Theta  0 : 7  =  [2.38842679e+06 2.38842627e+06 9.76390587e+02 5.75712007e+02\n",
            " 8.67413738e+02 5.93256801e+02]\n",
            "Theta  0 : 8  =  [2.38870057e+06 2.38870012e+06 9.02498629e+02 5.64017246e+02\n",
            " 8.56814161e+02 6.26635731e+02]\n",
            "Theta  0 : 9  =  [2.38878366e+06 2.38878327e+06 8.28481404e+02 5.52269003e+02\n",
            " 8.46138489e+02 6.59988591e+02]\n",
            "Finished Computation\n"
          ]
        }
      ]
    },
    {
      "cell_type": "code",
      "source": [
        "PlotLoss(training_cost_values[0,cost_index[1]],training_cost_values[0,cost_index[1]]-validation_cost_values[0,cost_index[1]],iterations,\"Iterations\",\"Loss\",\"Training and Validation Loss\")"
      ],
      "metadata": {
        "colab": {
          "base_uri": "https://localhost:8080/",
          "height": 430
        },
        "id": "H2tNSH8qKLK_",
        "outputId": "53b2c25d-350a-4d7e-882b-4f4ad4798a9a"
      },
      "execution_count": 27,
      "outputs": [
        {
          "output_type": "display_data",
          "data": {
            "text/plain": [
              "<Figure size 600x400 with 1 Axes>"
            ],
            "image/png": "[encoded data removed]"
          },
          "metadata": {}
        }
      ]
    },
    {
      "cell_type": "code",
      "source": [
        "validation_2 = training_cost_values[0,cost_index[1],-1]-validation_cost_values[0,cost_index[1],-1]\n",
        "print(\"Difference of Validation = \",validation_2 - validation_1)"
      ],
      "metadata": {
        "colab": {
          "base_uri": "https://localhost:8080/",
          "height": 0
        },
        "id": "MRtEA-EaXkeQ",
        "outputId": "209ca511-88f1-4730-ba9d-c35faf983ab3"
      },
      "execution_count": 28,
      "outputs": [
        {
          "output_type": "stream",
          "name": "stdout",
          "text": [
            "Difference of Validation =  783629618944.5332\n"
          ]
        }
      ]
    },
    {
      "cell_type": "markdown",
      "source": [
        "Using pre-processing logic to equalize the data, we reduce computation error and get a much more accurate picture of the training performed by the model. While both normalization and standardization produce far better results than not using anything, the difference between the training and validation loss is much lower with normalization, and so I would say that it performs better."
      ],
      "metadata": {
        "id": "TCELieauQ51g"
      }
    },
    {
      "cell_type": "markdown",
      "source": [
        "2.b) Repeat problem 1 b, this time with input normalization and input standardization as part of your pre-processing logic. You need to perform two separate trainings for standardization and normalization. In both cases, you do not need to normalize the output!\n",
        "\n",
        "Plot the training and validation losses for both training and validation sets based on input standardization and input normalization. Compare your training accuracy between both scaling approaches and the baseline training in problem 1 b. Which input scaling achieves the best training? Explain your results."
      ],
      "metadata": {
        "id": "vR0X_N_xQmvB"
      }
    },
    {
      "cell_type": "markdown",
      "source": [
        "We will perform the same exercise as before, but now using the data from 1.b. Starting with standardization..."
      ],
      "metadata": {
        "id": "BhrAGcWeRm4W"
      }
    },
    {
      "cell_type": "code",
      "source": [
        "X_train, X_test, Y_train, Y_test = train_test_split(X_2, Y_2, test_size = 0.20, random_state = 0)\n",
        "sc_X = StandardScaler()\n",
        "X_train = sc_X.fit_transform(X_train)\n",
        "X_test = sc_X.transform(X_test)\n",
        "\n",
        "iterations = 50\n",
        "alpha_values = np.arange(0.01,0.11,0.01)\n",
        "theta_values = np.zeros((1,len(alpha_values),X_feature.shape[1]))     # Construct 3D-array to hold each pair of theta values for every alpha and X\n",
        "training_cost_values = np.zeros((1,len(alpha_values),iterations))     # Construuct 3D-array to hold each set of cost history for every alpha and X\n",
        "validation_cost_values = np.zeros((1,len(alpha_values),iterations))   # Construuct 3D-array to hold each set of cost history for every alpha and X\n",
        "i = 0\n",
        "j = 0\n",
        "for alpha in alpha_values:\n",
        "  theta = theta_values[0,j]\n",
        "  theta, train_cost_history = GradientDescent(X_feature,Y_train,theta,alpha,iterations)\n",
        "  print(\"Theta \",i, ':',j,\" = \",theta)\n",
        "  theta_values[0,j] = theta\n",
        "  training_cost_values[0,j] = train_cost_history\n",
        "  theta, valid_cost_history = GradientDescent(X_test_feature,Y_test,theta,alpha,iterations)\n",
        "  validation_cost_values[0,j] = valid_cost_history\n",
        "  j = j+1\n",
        "print(\"Finished Computation\")\n",
        "\n",
        "PlotLoss(training_cost_values[0,cost_index[1]],training_cost_values[0,cost_index[1]]-validation_cost_values[0,cost_index[1]],iterations,\"Iterations\",\"Loss\",\"Training and Validation Loss\")"
      ],
      "metadata": {
        "colab": {
          "base_uri": "https://localhost:8080/",
          "height": 795
        },
        "id": "_G5dKgYmRwmD",
        "outputId": "cbaf0dfd-e2a6-4b30-fc17-4798b7073e39"
      },
      "execution_count": 29,
      "outputs": [
        {
          "output_type": "stream",
          "name": "stdout",
          "text": [
            "Theta  0 : 0  =  [1.51888271e+06 1.51888211e+06 9.23687053e+02 4.14230981e+02\n",
            " 5.95390314e+02 2.40989834e+02]\n",
            "Theta  0 : 1  =  [2.07854425e+06 2.07854347e+06 1.21725867e+03 5.59428252e+02\n",
            " 8.08010360e+02 3.50843358e+02]\n",
            "Theta  0 : 2  =  [2.28053092e+06 2.28053012e+06 1.27587253e+03 6.04308099e+02\n",
            " 8.77902841e+02 4.11798709e+02]\n",
            "Theta  0 : 3  =  [2.35187118e+06 2.35187042e+06 1.24866435e+03 6.12545421e+02\n",
            " 8.95661819e+02 4.54893229e+02]\n",
            "Theta  0 : 4  =  [2.37650635e+06 2.37650564e+06 1.19077545e+03 6.07683318e+02\n",
            " 8.94783468e+02 4.91602636e+02]\n",
            "Theta  0 : 5  =  [2.38481541e+06 2.38481476e+06 1.12216188e+03 5.98242218e+02\n",
            " 8.87390305e+02 5.26080081e+02]\n",
            "Theta  0 : 6  =  [2.38754981e+06 2.38754922e+06 1.04988631e+03 5.87237588e+02\n",
            " 8.77772616e+02 5.59795406e+02]\n",
            "Theta  0 : 7  =  [2.38842679e+06 2.38842627e+06 9.76390587e+02 5.75712007e+02\n",
            " 8.67413738e+02 5.93256801e+02]\n",
            "Theta  0 : 8  =  [2.38870057e+06 2.38870012e+06 9.02498629e+02 5.64017246e+02\n",
            " 8.56814161e+02 6.26635731e+02]\n",
            "Theta  0 : 9  =  [2.38878366e+06 2.38878327e+06 8.28481404e+02 5.52269003e+02\n",
            " 8.46138489e+02 6.59988591e+02]\n",
            "Finished Computation\n"
          ]
        },
        {
          "output_type": "display_data",
          "data": {
            "text/plain": [
              "<Figure size 600x400 with 1 Axes>"
            ],
            "image/png": "[encoded data removed]"
          },
          "metadata": {}
        }
      ]
    },
    {
      "cell_type": "code",
      "source": [
        "validation_1 = training_cost_values[0,cost_index[1],-1]-validation_cost_values[0,cost_index[1],-1]"
      ],
      "metadata": {
        "id": "GSZI19IOWpcs"
      },
      "execution_count": 30,
      "outputs": []
    },
    {
      "cell_type": "markdown",
      "source": [
        "And now using normalization..."
      ],
      "metadata": {
        "id": "hn6HZIomSBeB"
      }
    },
    {
      "cell_type": "code",
      "source": [
        "X_train, X_test, Y_train, Y_test = train_test_split(X_2, Y_2, test_size = 0.20, random_state = 0)\n",
        "X_train = normalize(X_train)\n",
        "X_test = normalize(X_test)\n",
        "\n",
        "iterations = 50\n",
        "alpha_values = np.arange(0.01,0.11,0.01)\n",
        "theta_values = np.zeros((1,len(alpha_values),X_feature.shape[1]))     # Construct 3D-array to hold each pair of theta values for every alpha and X\n",
        "training_cost_values = np.zeros((1,len(alpha_values),iterations))     # Construuct 3D-array to hold each set of cost history for every alpha and X\n",
        "validation_cost_values = np.zeros((1,len(alpha_values),iterations))   # Construuct 3D-array to hold each set of cost history for every alpha and X\n",
        "i = 0\n",
        "j = 0\n",
        "for alpha in alpha_values:\n",
        "  theta = theta_values[0,j]\n",
        "  theta, train_cost_history = GradientDescent(X_feature,Y_train,theta,alpha,iterations)\n",
        "  print(\"Theta \",i, ':',j,\" = \",theta)\n",
        "  theta_values[0,j] = theta\n",
        "  training_cost_values[0,j] = train_cost_history\n",
        "  theta, valid_cost_history = GradientDescent(X_test_feature,Y_test,theta,alpha,iterations)\n",
        "  validation_cost_values[0,j] = valid_cost_history\n",
        "  j = j+1\n",
        "print(\"Finished Computation\")\n",
        "\n",
        "PlotLoss(training_cost_values[0,cost_index[1]],training_cost_values[0,cost_index[1]]-validation_cost_values[0,cost_index[1]],iterations,\"Iterations\",\"Loss\",\"Training and Validation Loss\")"
      ],
      "metadata": {
        "colab": {
          "base_uri": "https://localhost:8080/",
          "height": 795
        },
        "id": "jBltmuB1SHRx",
        "outputId": "3a372c93-d480-4e46-c34e-1d74c5c62f33"
      },
      "execution_count": 31,
      "outputs": [
        {
          "output_type": "stream",
          "name": "stdout",
          "text": [
            "Theta  0 : 0  =  [1.51888271e+06 1.51888211e+06 9.23687053e+02 4.14230981e+02\n",
            " 5.95390314e+02 2.40989834e+02]\n",
            "Theta  0 : 1  =  [2.07854425e+06 2.07854347e+06 1.21725867e+03 5.59428252e+02\n",
            " 8.08010360e+02 3.50843358e+02]\n",
            "Theta  0 : 2  =  [2.28053092e+06 2.28053012e+06 1.27587253e+03 6.04308099e+02\n",
            " 8.77902841e+02 4.11798709e+02]\n",
            "Theta  0 : 3  =  [2.35187118e+06 2.35187042e+06 1.24866435e+03 6.12545421e+02\n",
            " 8.95661819e+02 4.54893229e+02]\n",
            "Theta  0 : 4  =  [2.37650635e+06 2.37650564e+06 1.19077545e+03 6.07683318e+02\n",
            " 8.94783468e+02 4.91602636e+02]\n",
            "Theta  0 : 5  =  [2.38481541e+06 2.38481476e+06 1.12216188e+03 5.98242218e+02\n",
            " 8.87390305e+02 5.26080081e+02]\n",
            "Theta  0 : 6  =  [2.38754981e+06 2.38754922e+06 1.04988631e+03 5.87237588e+02\n",
            " 8.77772616e+02 5.59795406e+02]\n",
            "Theta  0 : 7  =  [2.38842679e+06 2.38842627e+06 9.76390587e+02 5.75712007e+02\n",
            " 8.67413738e+02 5.93256801e+02]\n",
            "Theta  0 : 8  =  [2.38870057e+06 2.38870012e+06 9.02498629e+02 5.64017246e+02\n",
            " 8.56814161e+02 6.26635731e+02]\n",
            "Theta  0 : 9  =  [2.38878366e+06 2.38878327e+06 8.28481404e+02 5.52269003e+02\n",
            " 8.46138489e+02 6.59988591e+02]\n",
            "Finished Computation\n"
          ]
        },
        {
          "output_type": "display_data",
          "data": {
            "text/plain": [
              "<Figure size 600x400 with 1 Axes>"
            ],
            "image/png": "[encoded data removed]"
          },
          "metadata": {}
        }
      ]
    },
    {
      "cell_type": "code",
      "source": [
        "validation_2 = training_cost_values[0,cost_index[1],-1]-validation_cost_values[0,cost_index[1],-1]\n",
        "print(\"Difference of Validation = \",validation_2 - validation_1)"
      ],
      "metadata": {
        "colab": {
          "base_uri": "https://localhost:8080/",
          "height": 0
        },
        "id": "Xo_CQERWWV8l",
        "outputId": "f2057bf9-4f79-4d2f-9e08-b1538c3b2f90"
      },
      "execution_count": 32,
      "outputs": [
        {
          "output_type": "stream",
          "name": "stdout",
          "text": [
            "Difference of Validation =  0.0\n"
          ]
        }
      ]
    },
    {
      "cell_type": "markdown",
      "source": [
        "Similar to the first problem, both graphs are nearly identical to their 2.a counterparts. However, an interesting aspect is that both graphs are nearly identical to each other as well (something that couldn't have been said for the graphs in 2.a). As with the last part, using normalization and standardization in this case produce better results than not using either. However, this time around there is no optimal choice, as the wide margin of inputs has reduced the difference in validation between the two graphs to 0.0."
      ],
      "metadata": {
        "id": "1_LofKYoSbU1"
      }
    },
    {
      "cell_type": "markdown",
      "source": [
        "Problem 3 (40 points)\n",
        "\n",
        "3.a) Repeat problem 2 a, this time by adding a parameters penalty to your loss function. Note that in this case, you need to modify the gradient decent logic for your training set, but you don’t need to change your loss for the evaluation set.  \n",
        "\n",
        "Plot your results (both training and evaluation losses) for the best input scaling approach (standardization or normalization). Explain your results and compare them against problem 2 a."
      ],
      "metadata": {
        "id": "LambXCtuXu0u"
      }
    },
    {
      "cell_type": "code",
      "source": [
        "def GradientDescentWithPenalty(X,Y,theta,alpha,iterations,lambda_=0,penalty='l2'):\n",
        "  cost_history = np.zeros(iterations)         # Initializes empty array of size \"iterations\"\n",
        "  for i in range(iterations):\n",
        "    predictions = X.dot(theta)                # Scales X array by current theta value\n",
        "    errors = np.subtract(predictions,Y)       # Computes the difference between every element of predictions[] and Y[]\n",
        "    if penalty == 'l2':\n",
        "      sum_delta = (alpha / m) * (X.T.dot(errors) + lambda_ * theta)\n",
        "    elif penalty == 'l1':\n",
        "      sum_delta = (alpha / m) * (X.T.dot(errors) + lambda_ * np.sign(theta))\n",
        "    else:\n",
        "      sum_delta = (alpha / m) * X.T.dot(errors)\n",
        "    theta = theta - sum_delta                 # New theta is found by taking the difference between current value and solved delta value\n",
        "    cost_history[i] = ComputeCost(X,Y,theta)  # Computes the cost for the current theta value\n",
        "  return theta, cost_history"
      ],
      "metadata": {
        "id": "TezbbjX5X9Kk"
      },
      "execution_count": 33,
      "outputs": []
    },
    {
      "cell_type": "markdown",
      "source": [
        "Using Standardization with Ridge Regression:"
      ],
      "metadata": {
        "id": "fWifhYPzb1Ok"
      }
    },
    {
      "cell_type": "code",
      "source": [
        "X_train, X_test, Y_train, Y_test = train_test_split(X_1, Y_1, test_size = 0.20, random_state = 0)\n",
        "sc_X = StandardScaler()\n",
        "X_train = sc_X.fit_transform(X_train)\n",
        "X_test = sc_X.transform(X_test)\n",
        "\n",
        "iterations = 50\n",
        "alpha_values = np.arange(0.01,0.11,0.01)\n",
        "theta_values = np.zeros((1,len(alpha_values),X_feature.shape[1]))     # Construct 3D-array to hold each pair of theta values for every alpha and X\n",
        "training_cost_values = np.zeros((1,len(alpha_values),iterations))     # Construuct 3D-array to hold each set of cost history for every alpha and X\n",
        "validation_cost_values = np.zeros((1,len(alpha_values),iterations))   # Construuct 3D-array to hold each set of cost history for every alpha and X\n",
        "i = 0\n",
        "j = 0\n",
        "for alpha in alpha_values:\n",
        "  theta = theta_values[0,j]\n",
        "  theta, train_cost_history = GradientDescentWithPenalty(X_feature,Y_train,theta,alpha,iterations,50,'l2')\n",
        "  print(\"Theta \",i, ':',j,\" = \",theta)\n",
        "  theta_values[0,j] = theta\n",
        "  training_cost_values[0,j] = train_cost_history\n",
        "  theta, valid_cost_history = GradientDescentWithPenalty(X_test_feature,Y_test,theta,alpha,iterations,50,'l2')\n",
        "  validation_cost_values[0,j] = valid_cost_history\n",
        "  j = j+1\n",
        "print(\"Finished Computation\")\n",
        "\n",
        "PlotLoss(training_cost_values[0,cost_index[1]],training_cost_values[0,cost_index[1]]-validation_cost_values[0,cost_index[1]],iterations,\"Iterations\",\"Loss\",\"Training and Validation Loss\")"
      ],
      "metadata": {
        "colab": {
          "base_uri": "https://localhost:8080/",
          "height": 795
        },
        "outputId": "74cb9318-32af-44b1-94be-420effcd7237",
        "id": "y48PDL6PZHWf"
      },
      "execution_count": 34,
      "outputs": [
        {
          "output_type": "stream",
          "name": "stdout",
          "text": [
            "Theta  0 : 0  =  [1.48329845e+06 1.48329787e+06 9.02355109e+02 4.04575379e+02\n",
            " 5.81486104e+02 2.35205251e+02]\n",
            "Theta  0 : 1  =  [1.99890373e+06 1.99890298e+06 1.17296972e+03 5.38367080e+02\n",
            " 7.77390904e+02 3.36342388e+02]\n",
            "Theta  0 : 2  =  [2.17401331e+06 2.17401254e+06 1.22364045e+03 5.77252204e+02\n",
            " 8.37962450e+02 3.89251498e+02]\n",
            "Theta  0 : 3  =  [2.23205669e+06 2.23205595e+06 1.20093861e+03 5.83864422e+02\n",
            " 8.52329719e+02 4.24568050e+02]\n",
            "Theta  0 : 4  =  [2.25081359e+06 2.25081290e+06 1.15576820e+03 5.79988535e+02\n",
            " 8.51502714e+02 4.53010803e+02]\n",
            "Theta  0 : 5  =  [2.25671583e+06 2.25671518e+06 1.10531265e+03 5.73009337e+02\n",
            " 8.46002873e+02 4.78274181e+02]\n",
            "Theta  0 : 6  =  [2.25852201e+06 2.25852140e+06 1.05515527e+03 5.65356312e+02\n",
            " 8.39300647e+02 5.01632214e+02]\n",
            "Theta  0 : 7  =  [2.25905880e+06 2.25905823e+06 1.00699166e+03 5.57796628e+02\n",
            " 8.32500680e+02 5.23543918e+02]\n",
            "Theta  0 : 8  =  [2.25921349e+06 2.25921297e+06 9.61251969e+02 5.50554881e+02\n",
            " 8.25934968e+02 5.44199342e+02]\n",
            "Theta  0 : 9  =  [2.25925665e+06 2.25925617e+06 9.17969299e+02 5.43683966e+02\n",
            " 8.19690562e+02 5.63700577e+02]\n",
            "Finished Computation\n"
          ]
        },
        {
          "output_type": "display_data",
          "data": {
            "text/plain": [
              "<Figure size 600x400 with 1 Axes>"
            ],
            "image/png": "[encoded data removed]"
          },
          "metadata": {}
        }
      ]
    },
    {
      "cell_type": "markdown",
      "source": [
        "Using Normalization with Ridge Regression:"
      ],
      "metadata": {
        "id": "95OhNzvUcEFy"
      }
    },
    {
      "cell_type": "code",
      "source": [
        "X_train, X_test, Y_train, Y_test = train_test_split(X_1, Y_1, test_size = 0.20, random_state = 0)\n",
        "X_train = normalize(X_train)\n",
        "X_test = normalize(X_test)\n",
        "\n",
        "iterations = 50\n",
        "alpha_values = np.arange(0.01,0.11,0.01)\n",
        "theta_values = np.zeros((1,len(alpha_values),X_feature.shape[1]))     # Construct 3D-array to hold each pair of theta values for every alpha and X\n",
        "training_cost_values = np.zeros((1,len(alpha_values),iterations))     # Construuct 3D-array to hold each set of cost history for every alpha and X\n",
        "validation_cost_values = np.zeros((1,len(alpha_values),iterations))   # Construuct 3D-array to hold each set of cost history for every alpha and X\n",
        "i = 0\n",
        "j = 0\n",
        "for alpha in alpha_values:\n",
        "  theta = theta_values[0,j]\n",
        "  theta, train_cost_history = GradientDescentWithPenalty(X_feature,Y_train,theta,alpha,iterations,50,'l2')\n",
        "  print(\"Theta \",i, ':',j,\" = \",theta)\n",
        "  theta_values[0,j] = theta\n",
        "  training_cost_values[0,j] = train_cost_history\n",
        "  theta, valid_cost_history = GradientDescentWithPenalty(X_test_feature,Y_test,theta,alpha,iterations,50,'l2')\n",
        "  validation_cost_values[0,j] = valid_cost_history\n",
        "  j = j+1\n",
        "print(\"Finished Computation\")\n",
        "\n",
        "PlotLoss(training_cost_values[0,cost_index[1]],training_cost_values[0,cost_index[1]]-validation_cost_values[0,cost_index[1]],iterations,\"Iterations\",\"Loss\",\"Training and Validation Loss\")"
      ],
      "metadata": {
        "colab": {
          "base_uri": "https://localhost:8080/",
          "height": 795
        },
        "outputId": "e69e56f1-7893-4557-b80b-b8eac55f504d",
        "id": "awdksz5RcCxs"
      },
      "execution_count": 35,
      "outputs": [
        {
          "output_type": "stream",
          "name": "stdout",
          "text": [
            "Theta  0 : 0  =  [1.48329845e+06 1.48329787e+06 9.02355109e+02 4.04575379e+02\n",
            " 5.81486104e+02 2.35205251e+02]\n",
            "Theta  0 : 1  =  [1.99890373e+06 1.99890298e+06 1.17296972e+03 5.38367080e+02\n",
            " 7.77390904e+02 3.36342388e+02]\n",
            "Theta  0 : 2  =  [2.17401331e+06 2.17401254e+06 1.22364045e+03 5.77252204e+02\n",
            " 8.37962450e+02 3.89251498e+02]\n",
            "Theta  0 : 3  =  [2.23205669e+06 2.23205595e+06 1.20093861e+03 5.83864422e+02\n",
            " 8.52329719e+02 4.24568050e+02]\n",
            "Theta  0 : 4  =  [2.25081359e+06 2.25081290e+06 1.15576820e+03 5.79988535e+02\n",
            " 8.51502714e+02 4.53010803e+02]\n",
            "Theta  0 : 5  =  [2.25671583e+06 2.25671518e+06 1.10531265e+03 5.73009337e+02\n",
            " 8.46002873e+02 4.78274181e+02]\n",
            "Theta  0 : 6  =  [2.25852201e+06 2.25852140e+06 1.05515527e+03 5.65356312e+02\n",
            " 8.39300647e+02 5.01632214e+02]\n",
            "Theta  0 : 7  =  [2.25905880e+06 2.25905823e+06 1.00699166e+03 5.57796628e+02\n",
            " 8.32500680e+02 5.23543918e+02]\n",
            "Theta  0 : 8  =  [2.25921349e+06 2.25921297e+06 9.61251969e+02 5.50554881e+02\n",
            " 8.25934968e+02 5.44199342e+02]\n",
            "Theta  0 : 9  =  [2.25925665e+06 2.25925617e+06 9.17969299e+02 5.43683966e+02\n",
            " 8.19690562e+02 5.63700577e+02]\n",
            "Finished Computation\n"
          ]
        },
        {
          "output_type": "display_data",
          "data": {
            "text/plain": [
              "<Figure size 600x400 with 1 Axes>"
            ],
            "image/png": "[encoded data removed]"
          },
          "metadata": {}
        }
      ]
    },
    {
      "cell_type": "markdown",
      "source": [
        "Despite the addition of paramater penalty (an increase in error for each theta value at play to avoid overfitting), the graphs have not changed much. This could be due to the dataset we are using for this assignment, or it could be due to using too small a value for lambda."
      ],
      "metadata": {
        "id": "xgaO9UcmeP1z"
      }
    },
    {
      "cell_type": "markdown",
      "source": [
        "\n",
        "3.b) Repeat problem 2 b, this time by adding a parameters penalty to your loss function. Note that in this case, you need to modify the gradient decent logic for your training set, but you don’t need to change your loss for the evaluation set.  \n",
        "\n",
        "Plot your results (both training and evaluation losses) for the best input scaling approach (standardization or normalization). Explain your results and compare them against problem 2 b."
      ],
      "metadata": {
        "id": "tSJu87QwddQQ"
      }
    },
    {
      "cell_type": "markdown",
      "source": [
        "Using Standardization with Ridge Regression:"
      ],
      "metadata": {
        "id": "Frqrpqyrdpi4"
      }
    },
    {
      "cell_type": "code",
      "source": [
        "X_train, X_test, Y_train, Y_test = train_test_split(X_2, Y_2, test_size = 0.20, random_state = 0)\n",
        "sc_X = StandardScaler()\n",
        "X_train = sc_X.fit_transform(X_train)\n",
        "X_test = sc_X.transform(X_test)\n",
        "\n",
        "iterations = 50\n",
        "alpha_values = np.arange(0.01,0.11,0.01)\n",
        "theta_values = np.zeros((1,len(alpha_values),X_feature.shape[1]))     # Construct 3D-array to hold each pair of theta values for every alpha and X\n",
        "training_cost_values = np.zeros((1,len(alpha_values),iterations))     # Construuct 3D-array to hold each set of cost history for every alpha and X\n",
        "validation_cost_values = np.zeros((1,len(alpha_values),iterations))   # Construuct 3D-array to hold each set of cost history for every alpha and X\n",
        "i = 0\n",
        "j = 0\n",
        "for alpha in alpha_values:\n",
        "  theta = theta_values[0,j]\n",
        "  theta, train_cost_history = GradientDescentWithPenalty(X_feature,Y_train,theta,alpha,iterations,50,'l2')\n",
        "  print(\"Theta \",i, ':',j,\" = \",theta)\n",
        "  theta_values[0,j] = theta\n",
        "  training_cost_values[0,j] = train_cost_history\n",
        "  theta, valid_cost_history = GradientDescentWithPenalty(X_test_feature,Y_test,theta,alpha,iterations,50,'l2')\n",
        "  validation_cost_values[0,j] = valid_cost_history\n",
        "  j = j+1\n",
        "print(\"Finished Computation\")\n",
        "\n",
        "PlotLoss(training_cost_values[0,cost_index[1]],training_cost_values[0,cost_index[1]]-validation_cost_values[0,cost_index[1]],iterations,\"Iterations\",\"Loss\",\"Training and Validation Loss\")"
      ],
      "metadata": {
        "colab": {
          "base_uri": "https://localhost:8080/",
          "height": 795
        },
        "outputId": "e762ec74-2d8d-4fb4-9097-1c5619066441",
        "id": "vXB7YFWBdhxJ"
      },
      "execution_count": 36,
      "outputs": [
        {
          "output_type": "stream",
          "name": "stdout",
          "text": [
            "Theta  0 : 0  =  [1.48329845e+06 1.48329787e+06 9.02355109e+02 4.04575379e+02\n",
            " 5.81486104e+02 2.35205251e+02]\n",
            "Theta  0 : 1  =  [1.99890373e+06 1.99890298e+06 1.17296972e+03 5.38367080e+02\n",
            " 7.77390904e+02 3.36342388e+02]\n",
            "Theta  0 : 2  =  [2.17401331e+06 2.17401254e+06 1.22364045e+03 5.77252204e+02\n",
            " 8.37962450e+02 3.89251498e+02]\n",
            "Theta  0 : 3  =  [2.23205669e+06 2.23205595e+06 1.20093861e+03 5.83864422e+02\n",
            " 8.52329719e+02 4.24568050e+02]\n",
            "Theta  0 : 4  =  [2.25081359e+06 2.25081290e+06 1.15576820e+03 5.79988535e+02\n",
            " 8.51502714e+02 4.53010803e+02]\n",
            "Theta  0 : 5  =  [2.25671583e+06 2.25671518e+06 1.10531265e+03 5.73009337e+02\n",
            " 8.46002873e+02 4.78274181e+02]\n",
            "Theta  0 : 6  =  [2.25852201e+06 2.25852140e+06 1.05515527e+03 5.65356312e+02\n",
            " 8.39300647e+02 5.01632214e+02]\n",
            "Theta  0 : 7  =  [2.25905880e+06 2.25905823e+06 1.00699166e+03 5.57796628e+02\n",
            " 8.32500680e+02 5.23543918e+02]\n",
            "Theta  0 : 8  =  [2.25921349e+06 2.25921297e+06 9.61251969e+02 5.50554881e+02\n",
            " 8.25934968e+02 5.44199342e+02]\n",
            "Theta  0 : 9  =  [2.25925665e+06 2.25925617e+06 9.17969299e+02 5.43683966e+02\n",
            " 8.19690562e+02 5.63700577e+02]\n",
            "Finished Computation\n"
          ]
        },
        {
          "output_type": "display_data",
          "data": {
            "text/plain": [
              "<Figure size 600x400 with 1 Axes>"
            ],
            "image/png": "[encoded data removed]"
          },
          "metadata": {}
        }
      ]
    },
    {
      "cell_type": "markdown",
      "source": [
        "Using Normalization with Ridge Regression:"
      ],
      "metadata": {
        "id": "c8KDiQrpds2R"
      }
    },
    {
      "cell_type": "code",
      "source": [
        "X_train, X_test, Y_train, Y_test = train_test_split(X_2, Y_2, test_size = 0.20, random_state = 0)\n",
        "X_train = normalize(X_train)\n",
        "X_test = normalize(X_test)\n",
        "\n",
        "iterations = 50\n",
        "alpha_values = np.arange(0.01,0.11,0.01)\n",
        "theta_values = np.zeros((1,len(alpha_values),X_feature.shape[1]))     # Construct 3D-array to hold each pair of theta values for every alpha and X\n",
        "training_cost_values = np.zeros((1,len(alpha_values),iterations))     # Construuct 3D-array to hold each set of cost history for every alpha and X\n",
        "validation_cost_values = np.zeros((1,len(alpha_values),iterations))   # Construuct 3D-array to hold each set of cost history for every alpha and X\n",
        "i = 0\n",
        "j = 0\n",
        "for alpha in alpha_values:\n",
        "  theta = theta_values[0,j]\n",
        "  theta, train_cost_history = GradientDescentWithPenalty(X_feature,Y_train,theta,alpha,iterations,50,'l2')\n",
        "  print(\"Theta \",i, ':',j,\" = \",theta)\n",
        "  theta_values[0,j] = theta\n",
        "  training_cost_values[0,j] = train_cost_history\n",
        "  theta, valid_cost_history = GradientDescentWithPenalty(X_test_feature,Y_test,theta,alpha,iterations,50,'l2')\n",
        "  validation_cost_values[0,j] = valid_cost_history\n",
        "  j = j+1\n",
        "print(\"Finished Computation\")\n",
        "\n",
        "PlotLoss(training_cost_values[0,cost_index[1]],training_cost_values[0,cost_index[1]]-validation_cost_values[0,cost_index[1]],iterations,\"Iterations\",\"Loss\",\"Training and Validation Loss\")"
      ],
      "metadata": {
        "colab": {
          "base_uri": "https://localhost:8080/",
          "height": 795
        },
        "outputId": "ff5e1b8a-6db3-42cd-d0b3-20a05c4dfefb",
        "id": "TVsslZDwdmUG"
      },
      "execution_count": 37,
      "outputs": [
        {
          "output_type": "stream",
          "name": "stdout",
          "text": [
            "Theta  0 : 0  =  [1.48329845e+06 1.48329787e+06 9.02355109e+02 4.04575379e+02\n",
            " 5.81486104e+02 2.35205251e+02]\n",
            "Theta  0 : 1  =  [1.99890373e+06 1.99890298e+06 1.17296972e+03 5.38367080e+02\n",
            " 7.77390904e+02 3.36342388e+02]\n",
            "Theta  0 : 2  =  [2.17401331e+06 2.17401254e+06 1.22364045e+03 5.77252204e+02\n",
            " 8.37962450e+02 3.89251498e+02]\n",
            "Theta  0 : 3  =  [2.23205669e+06 2.23205595e+06 1.20093861e+03 5.83864422e+02\n",
            " 8.52329719e+02 4.24568050e+02]\n",
            "Theta  0 : 4  =  [2.25081359e+06 2.25081290e+06 1.15576820e+03 5.79988535e+02\n",
            " 8.51502714e+02 4.53010803e+02]\n",
            "Theta  0 : 5  =  [2.25671583e+06 2.25671518e+06 1.10531265e+03 5.73009337e+02\n",
            " 8.46002873e+02 4.78274181e+02]\n",
            "Theta  0 : 6  =  [2.25852201e+06 2.25852140e+06 1.05515527e+03 5.65356312e+02\n",
            " 8.39300647e+02 5.01632214e+02]\n",
            "Theta  0 : 7  =  [2.25905880e+06 2.25905823e+06 1.00699166e+03 5.57796628e+02\n",
            " 8.32500680e+02 5.23543918e+02]\n",
            "Theta  0 : 8  =  [2.25921349e+06 2.25921297e+06 9.61251969e+02 5.50554881e+02\n",
            " 8.25934968e+02 5.44199342e+02]\n",
            "Theta  0 : 9  =  [2.25925665e+06 2.25925617e+06 9.17969299e+02 5.43683966e+02\n",
            " 8.19690562e+02 5.63700577e+02]\n",
            "Finished Computation\n"
          ]
        },
        {
          "output_type": "display_data",
          "data": {
            "text/plain": [
              "<Figure size 600x400 with 1 Axes>"
            ],
            "image/png": "[encoded data removed]"
          },
          "metadata": {}
        }
      ]
    },
    {
      "cell_type": "markdown",
      "source": [
        "Just as with 3.a, the graphs between problems 2 and 3 aren't very different from one another. However, by tweaking the lambda value we are able to control how close or how far the validation line gets from the training line."
      ],
      "metadata": {
        "id": "tiwuRzgke5sz"
      }
    }
  ]
}