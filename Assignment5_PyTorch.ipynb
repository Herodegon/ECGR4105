{
  "nbformat": 4,
  "nbformat_minor": 0,
  "metadata": {
    "colab": {
      "provenance": [],
      "authorship_tag": "ABX9TyORZ6b1nZ3qr6nrd80NYFmr",
      "include_colab_link": true
    },
    "kernelspec": {
      "name": "python3",
      "display_name": "Python 3"
    },
    "language_info": {
      "name": "python"
    }
  },
  "cells": [
    {
      "cell_type": "markdown",
      "metadata": {
        "id": "view-in-github",
        "colab_type": "text"
      },
      "source": [
        "<a href=\"https://colab.research.google.com/github/Herodegon/ECGR4105-Intro-to-Machine-Learning/blob/main/Assignment5_PyTorch.ipynb\" target=\"_parent\"><img src=\"https://colab.research.google.com/assets/colab-badge.svg\" alt=\"Open In Colab\"/></a>"
      ]
    },
    {
      "cell_type": "markdown",
      "source": [
        "Problem 1 (30 pts):\n",
        "\n",
        "In our temperature prediction example discussed in class, let’s change our model to a nonlinear system. Consider the following description for our model:\n",
        "\n",
        "\n",
        "\n",
        "`w2 * t_u ** 2 + w1 * t_u + b`\n",
        "\n",
        "\n",
        "\n",
        "1.a Modify the training loop properly to accommodate this redefinition.\n",
        "\n",
        "\n",
        "\n",
        "1.b Use 5000 epochs for your training. Explore different learning rates from 0.1 to 0.0001 (you need four separate trainings). Report your loss for every 500 epochs per training.\n",
        "\n",
        "\n",
        "\n",
        "1.c Pick the best non-linear model and compare your final best loss against the linear model that we did during the lecture. For this, visualize the non-linear model against the linear model over the input dataset, as we did during the lecture. Is the actual result better or worse than our baseline linear model?"
      ],
      "metadata": {
        "id": "eNxNv5l8vG-r"
      }
    },
    {
      "cell_type": "code",
      "execution_count": 192,
      "metadata": {
        "id": "SjL0g2-tsucx"
      },
      "outputs": [],
      "source": [
        "import numpy as np\n",
        "import matplotlib.pyplot as plt\n",
        "import torch as torch\n",
        "\n",
        "# Temperature Dataset\n",
        "t_c = [0.5, 14.0, 15.0, 28.0, 11.0, 8.0, 3.0, -4.0, 6.0, 13.0, 21.0]\n",
        "t_u = [35.7, 55.9, 58.2, 81.9, 56.3, 48.9, 33.9, 21.8, 48.4, 60.4, 68.4]\n",
        "t_c = torch.tensor(t_c)\n",
        "t_u = torch.tensor(t_u)"
      ]
    },
    {
      "cell_type": "code",
      "source": [
        "# This will be the model for our dataset\n",
        "def Model(t_u,w1,w2,b):\n",
        "  return w2 * t_u ** 2 + w1 * t_u + b\n",
        "\n",
        "# Function to calculate the loss\n",
        "# Loss is calculated as mean squared\n",
        "def Loss(t_p,t_c):\n",
        "  squared_diffs = (t_p - t_c)**2\n",
        "  return squared_diffs.mean()"
      ],
      "metadata": {
        "id": "-g_DRV6mvTPn"
      },
      "execution_count": 193,
      "outputs": []
    },
    {
      "cell_type": "code",
      "source": [
        "params = torch.tensor([1.0,1.0,0.0], requires_grad=True)\n",
        "t_p = Model(t_u,*params)\n",
        "loss = Loss(t_p, t_c)\n",
        "loss.backward()\n",
        "params.grad"
      ],
      "metadata": {
        "colab": {
          "base_uri": "https://localhost:8080/"
        },
        "id": "u7SV-4MJwKPg",
        "outputId": "9606c964-4887-4138-b2b2-4484a303d6a6"
      },
      "execution_count": 194,
      "outputs": [
        {
          "output_type": "execute_result",
          "data": {
            "text/plain": [
              "tensor([3.6181e+05, 2.3149e+07, 5.9642e+03])"
            ]
          },
          "metadata": {},
          "execution_count": 194
        }
      ]
    },
    {
      "cell_type": "code",
      "source": [
        "from torch.optim import Adam\n",
        "\n",
        "# Training loop completed with PyTorch\n",
        "# This loop is making heavy use of code provided in\n",
        "# Lecture 12 of Vinit's Intro to Machine Learning course\n",
        "def Training_Loop(n_epochs, optimizer, learning_rate, params, t_u, t_c):\n",
        "  loss_history = np.zeros(n_epochs)\n",
        "  for epoch in range(1, n_epochs + 1):\n",
        "    t_p = Model(t_u, *params)\n",
        "    loss = Loss(t_p, t_c)\n",
        "    loss_history[epoch-1] = loss\n",
        "\n",
        "    optimizer.zero_grad()\n",
        "    loss.backward()\n",
        "    optimizer.step()\n",
        "\n",
        "    if epoch % 500 == 0:\n",
        "      print('Epoch %d, Loss %f' % (epoch, float(loss)))\n",
        "\n",
        "  return params, loss_history\n",
        "\n",
        "def PlotLoss(training_cost_history,iterations,x_label,y_label,title):\n",
        "  plt.plot(range(iterations),training_cost_history, color='b', label= 'Loss')\n",
        "  plt.rcParams[\"figure.figsize\"] = (6,4)\n",
        "  plt.legend()\n",
        "\n",
        "  plt.xlabel(x_label)\n",
        "  plt.ylabel(y_label)\n",
        "  plt.title(title)\n",
        "\n",
        "  # Print final graph\n",
        "  plt.show()\n",
        "  return"
      ],
      "metadata": {
        "id": "BxE3THqyxT5-"
      },
      "execution_count": 195,
      "outputs": []
    },
    {
      "cell_type": "code",
      "source": [
        "n_epochs = 5000\n",
        "learning_rate = [0.0001,0.001,0.01,0.1]\n",
        "for rate in learning_rate:\n",
        "  params = torch.tensor([1.0,1.0,0.0], requires_grad=True)\n",
        "  optimizer = Adam([params], lr=rate)\n",
        "  t_u = t_u\n",
        "  t_c = t_c\n",
        "  print(\"Learning Rate: \", rate)\n",
        "  Training_Loop(n_epochs, optimizer, learning_rate, params, t_u, t_c)\n",
        "  print(\"\\n\")"
      ],
      "metadata": {
        "colab": {
          "base_uri": "https://localhost:8080/"
        },
        "id": "qu1Sxl7zyLkY",
        "outputId": "e397e5e3-3a3f-4a92-f7f6-a8bcbe8d4d4b"
      },
      "execution_count": 196,
      "outputs": [
        {
          "output_type": "stream",
          "name": "stdout",
          "text": [
            "Learning Rate:  0.0001\n",
            "Epoch 500, Loss 10577728.000000\n",
            "Epoch 1000, Loss 9524402.000000\n",
            "Epoch 1500, Loss 8545122.000000\n",
            "Epoch 2000, Loss 7634292.500000\n",
            "Epoch 2500, Loss 6787368.000000\n",
            "Epoch 3000, Loss 6000706.000000\n",
            "Epoch 3500, Loss 5271407.500000\n",
            "Epoch 4000, Loss 4597170.000000\n",
            "Epoch 4500, Loss 3976134.250000\n",
            "Epoch 5000, Loss 3406753.750000\n",
            "\n",
            "\n",
            "Learning Rate:  0.001\n",
            "Epoch 500, Loss 3668163.000000\n",
            "Epoch 1000, Loss 768786.437500\n",
            "Epoch 1500, Loss 90021.125000\n",
            "Epoch 2000, Loss 4791.339844\n",
            "Epoch 2500, Loss 98.014191\n",
            "Epoch 3000, Loss 6.609710\n",
            "Epoch 3500, Loss 6.117270\n",
            "Epoch 4000, Loss 6.096753\n",
            "Epoch 4500, Loss 6.071090\n",
            "Epoch 5000, Loss 6.038404\n",
            "\n",
            "\n",
            "Learning Rate:  0.01\n",
            "Epoch 500, Loss 6.108693\n",
            "Epoch 1000, Loss 5.984358\n",
            "Epoch 1500, Loss 5.809032\n",
            "Epoch 2000, Loss 5.586317\n",
            "Epoch 2500, Loss 5.320902\n",
            "Epoch 3000, Loss 5.021267\n",
            "Epoch 3500, Loss 4.701309\n",
            "Epoch 4000, Loss 4.380754\n",
            "Epoch 4500, Loss 4.083409\n",
            "Epoch 5000, Loss 3.832656\n",
            "\n",
            "\n",
            "Learning Rate:  0.1\n",
            "Epoch 500, Loss 4.844501\n",
            "Epoch 1000, Loss 3.785644\n",
            "Epoch 1500, Loss 3.466676\n",
            "Epoch 2000, Loss 3.406405\n",
            "Epoch 2500, Loss 3.377975\n",
            "Epoch 3000, Loss 3.344335\n",
            "Epoch 3500, Loss 3.301921\n",
            "Epoch 4000, Loss 3.249141\n",
            "Epoch 4500, Loss 3.184418\n",
            "Epoch 5000, Loss 3.106353\n",
            "\n",
            "\n"
          ]
        }
      ]
    },
    {
      "cell_type": "code",
      "source": [
        "from sklearn.naive_bayes import GaussianNB\n",
        "from sklearn.metrics import accuracy_score\n",
        "from sklearn.metrics import mean_squared_error\n",
        "\n",
        "# Temperature Dataset\n",
        "t_c = [0.5, 14.0, 15.0, 28.0, 11.0, 8.0, 3.0, -4.0, 6.0, 13.0, 21.0]\n",
        "t_u = [35.7, 55.9, 58.2, 81.9, 56.3, 48.9, 33.9, 21.8, 48.4, 60.4, 68.4]\n",
        "t_c = torch.tensor(t_c)\n",
        "t_u = torch.tensor(t_u)\n",
        "\n",
        "n_epochs = 100\n",
        "learning_rate = 0.1\n",
        "loss_history_1 = np.zeros(n_epochs)\n",
        "params = torch.tensor([1.0,1.0,0.0], requires_grad=True)\n",
        "optimizer = Adam([params], lr=learning_rate)\n",
        "params, loss_history_1 = Training_Loop(n_epochs, optimizer, learning_rate, params, t_u, t_c)\n",
        "\n",
        "# Model\n",
        "model_2 = GaussianNB()\n",
        "\n",
        "# Training\n",
        "t_c = [0.5, 14.0, 15.0, 28.0, 11.0, 8.0, 3.0, -4.0, 6.0, 13.0, 21.0]\n",
        "t_u = [35.7, 55.9, 58.2, 81.9, 56.3, 48.9, 33.9, 21.8, 48.4, 60.4, 68.4]\n",
        "\n",
        "t_c = np.array(t_c).reshape(-1,1)\n",
        "t_u = np.array(t_u).reshape(-1,1)\n",
        "\n",
        "print(np.unique(t_c))\n",
        "\n",
        "#loss_history_2 = np.zeros(n_epochs)\n",
        "#for i in range(0,n_epochs):\n",
        "#  model_2.partial_fit(t_u,t_c,np.unique(t_c))\n",
        "#  t_c_pred = model_2.predict(t_u)\n",
        "#  loss_history_2[i] = mean_squared_error(t_c,t_c_pred)\n",
        "\n",
        "PlotLoss(loss_history_1,n_epochs,\"Epochs\",\"Loss\",\"Loss History\")\n",
        "#PlotLoss(loss_history_2,n_epochs,\"Epochs\",\"Loss\",\"Loss History\")"
      ],
      "metadata": {
        "colab": {
          "base_uri": "https://localhost:8080/",
          "height": 427
        },
        "id": "Zn4EWdH0J5Zx",
        "outputId": "58106e91-c5ce-4567-9732-3b410ed29c2a"
      },
      "execution_count": 197,
      "outputs": [
        {
          "output_type": "stream",
          "name": "stdout",
          "text": [
            "[-4.   0.5  3.   6.   8.  11.  13.  14.  15.  21.  28. ]\n"
          ]
        },
        {
          "output_type": "display_data",
          "data": {
            "text/plain": [
              "<Figure size 600x400 with 1 Axes>"
            ],
            "image/png": "[encoded data removed]"
          },
          "metadata": {}
        }
      ]
    },
    {
      "cell_type": "markdown",
      "source": [
        "Problem 2 (40 pts):\n",
        "\n",
        "2.a Develop preprocessing and a training loop to train a linear regression model that predicts housing price based on the following input variables:\n",
        "\n",
        "\n",
        "\n",
        "area, bedrooms, bathrooms, stories, parking\n",
        "\n",
        "\n",
        "\n",
        "For this, you need to use the housing dataset. For training and validation use 80% (training) and 20% (validation) split. Identify the best parameters for your linear regression model, based on the above input variables. In this case, you will have six parameters:\n",
        "\n",
        "\n",
        "\n",
        "2.b Use 5000 epochs for your training. Explore different learning rates from 0.1 to 0.0001 (you need four separate trainings). Report your loss and validation accuracy for every 500 epochs per training. Pick the best linear model.\n",
        "\n",
        "\n",
        "\n",
        "2.c Compare your results against the linear regression done in assignment 1. Do you see meaningful differences?"
      ],
      "metadata": {
        "id": "KLeg36GWQ5ot"
      }
    },
    {
      "cell_type": "code",
      "source": [
        "import pandas as pd\n",
        "from google.colab import drive\n",
        "drive.mount('/content/drive')"
      ],
      "metadata": {
        "colab": {
          "base_uri": "https://localhost:8080/"
        },
        "id": "kVnpfX5MQ0fd",
        "outputId": "64f45d6e-ed13-48bb-c208-941e44607c60"
      },
      "execution_count": 198,
      "outputs": [
        {
          "output_type": "stream",
          "name": "stdout",
          "text": [
            "Drive already mounted at /content/drive; to attempt to forcibly remount, call drive.mount(\"/content/drive\", force_remount=True).\n"
          ]
        }
      ]
    },
    {
      "cell_type": "code",
      "source": [
        "file_path = '/content/drive/MyDrive/ECGR4105/HW2_Housing.csv'\n",
        "dataset1 = pd.DataFrame(pd.read_csv(file_path))\n",
        "M=len(dataset1)\n",
        "M"
      ],
      "metadata": {
        "colab": {
          "base_uri": "https://localhost:8080/"
        },
        "id": "I0TouPqkQ3Rg",
        "outputId": "93e520bf-db2a-4647-c48c-82a8c6297aa8"
      },
      "execution_count": 199,
      "outputs": [
        {
          "output_type": "execute_result",
          "data": {
            "text/plain": [
              "545"
            ]
          },
          "metadata": {},
          "execution_count": 199
        }
      ]
    },
    {
      "cell_type": "code",
      "source": [
        "X_1 = dataset1.iloc[:,[1,2,3,4,10]].values  # Get input values from each explanatory variable (Area, Bedrooms, Bathrooms, Stories, Parking)\n",
        "Y_1 = dataset1.iloc[:,0].values             # Get output values (Price of Housing)\n",
        "m = int(np.floor(len(X_1)*0.8))            # Number of training examples\n",
        "n = int(np.floor(len(X_1)*0.2))            # Number of validation examples\n",
        "\n",
        "print(\"X_area = \", np.hstack(X_1[:5,0]))\n",
        "print(\"X_bedrooms = \", np.hstack(X_1[:5,1]))\n",
        "print(\"X_bathrooms = \", np.hstack(X_1[:5,2]))\n",
        "print(\"X_stories = \", np.hstack(X_1[:5,3]))\n",
        "print(\"X_parking = \", np.hstack(X_1[:5,4]))\n",
        "print(\"Y = \", np.hstack(Y_1[:5]))\n",
        "print(\"m = \", m)\n",
        "print(\"n = \", n)"
      ],
      "metadata": {
        "colab": {
          "base_uri": "https://localhost:8080/"
        },
        "id": "Yc96YqOHZg57",
        "outputId": "769f8b40-53da-48be-dd76-22a929820632"
      },
      "execution_count": 200,
      "outputs": [
        {
          "output_type": "stream",
          "name": "stdout",
          "text": [
            "X_area =  [7420 8960 9960 7500 7420]\n",
            "X_bedrooms =  [4 4 3 4 4]\n",
            "X_bathrooms =  [2 4 2 2 1]\n",
            "X_stories =  [3 4 2 2 2]\n",
            "X_parking =  [2 3 2 3 2]\n",
            "Y =  [13300000 12250000 12250000 12215000 11410000]\n",
            "m =  436\n",
            "n =  109\n"
          ]
        }
      ]
    },
    {
      "cell_type": "code",
      "source": [
        "def Model2(t_u,w,b):\n",
        "  return w * t_u + b\n",
        "\n",
        "def Training_Loop_2(n_epochs, optimizer, learning_rate, params, t_u_train, t_c_train, t_u_test, t_c_test):\n",
        "  train_loss_history = np.zeros(n_epochs)\n",
        "  valid_loss_history = np.zeros(n_epochs)\n",
        "  for epoch in range(1, n_epochs + 1):\n",
        "    t_p_train = Model2(t_u_train, *params)\n",
        "    t_p_valid = Model2(t_u_test, *params)\n",
        "\n",
        "    train_loss = Loss(t_p_train, t_c_train)\n",
        "    valid_loss = Loss(t_p_valid, t_c_test)\n",
        "\n",
        "    train_loss_history[epoch-1] = train_loss\n",
        "    valid_loss_history[epoch-1] = valid_loss\n",
        "\n",
        "    optimizer.zero_grad()\n",
        "    train_loss.backward()\n",
        "    optimizer.step()\n",
        "\n",
        "    if epoch % 500 == 0:\n",
        "      print(f\"Epoch {epoch}, Training Loss {float(train_loss)}, Validation Loss {float(valid_loss)}\")\n",
        "\n",
        "  return params, train_loss_history, valid_loss_history"
      ],
      "metadata": {
        "id": "Bhkf6me3SJbu"
      },
      "execution_count": 201,
      "outputs": []
    },
    {
      "cell_type": "code",
      "source": [
        "n_samples = X_1.shape[0]\n",
        "n_val = int(0.2 * n_samples)\n",
        "\n",
        "train_indices = torch.tensor(X_1[:-m])\n",
        "val_indices = torch.tensor(X_1[-m:])\n",
        "\n",
        "t_u_train = X_1[train_indices]\n",
        "t_u_valid = X_1[val_indices]\n",
        "\n",
        "t_c_train = Y_1[train_indices]\n",
        "t_c_valid = Y_1[val_indices]"
      ],
      "metadata": {
        "colab": {
          "base_uri": "https://localhost:8080/",
          "height": 211
        },
        "id": "tvinvTrhX-nf",
        "outputId": "6abaa2a8-c488-45a0-f37e-3abe766086fb"
      },
      "execution_count": 202,
      "outputs": [
        {
          "output_type": "error",
          "ename": "IndexError",
          "evalue": "index 7420 is out of bounds for axis 0 with size 545",
          "traceback": [
            "\u001b[0;31m---------------------------------------------------------------------------\u001b[0m",
            "\u001b[0;31mIndexError\u001b[0m                                Traceback (most recent call last)",
            "\u001b[0;32m<ipython-input-202-17e514170996>\u001b[0m in \u001b[0;36m<cell line: 7>\u001b[0;34m()\u001b[0m\n\u001b[1;32m      5\u001b[0m \u001b[0mval_indices\u001b[0m \u001b[0;34m=\u001b[0m \u001b[0mtorch\u001b[0m\u001b[0;34m.\u001b[0m\u001b[0mtensor\u001b[0m\u001b[0;34m(\u001b[0m\u001b[0mX_1\u001b[0m\u001b[0;34m[\u001b[0m\u001b[0;34m-\u001b[0m\u001b[0mm\u001b[0m\u001b[0;34m:\u001b[0m\u001b[0;34m]\u001b[0m\u001b[0;34m)\u001b[0m\u001b[0;34m\u001b[0m\u001b[0;34m\u001b[0m\u001b[0m\n\u001b[1;32m      6\u001b[0m \u001b[0;34m\u001b[0m\u001b[0m\n\u001b[0;32m----> 7\u001b[0;31m \u001b[0mt_u_train\u001b[0m \u001b[0;34m=\u001b[0m \u001b[0mX_1\u001b[0m\u001b[0;34m[\u001b[0m\u001b[0mtrain_indices\u001b[0m\u001b[0;34m]\u001b[0m\u001b[0;34m\u001b[0m\u001b[0;34m\u001b[0m\u001b[0m\n\u001b[0m\u001b[1;32m      8\u001b[0m \u001b[0mt_u_valid\u001b[0m \u001b[0;34m=\u001b[0m \u001b[0mX_1\u001b[0m\u001b[0;34m[\u001b[0m\u001b[0mval_indices\u001b[0m\u001b[0;34m]\u001b[0m\u001b[0;34m\u001b[0m\u001b[0;34m\u001b[0m\u001b[0m\n\u001b[1;32m      9\u001b[0m \u001b[0;34m\u001b[0m\u001b[0m\n",
            "\u001b[0;31mIndexError\u001b[0m: index 7420 is out of bounds for axis 0 with size 545"
          ]
        }
      ]
    },
    {
      "cell_type": "code",
      "source": [
        "n_epochs = 5000\n",
        "learning_rate = [0.0001,0.001,0.01,0.1]\n",
        "for rate in learning_rate:\n",
        "  params = torch.tensor([1.0,0.0], requires_grad=True)\n",
        "  optimizer = Adam([params], lr=rate)\n",
        "  t_u_train = t_u_train\n",
        "  t_c_train = t_c_train\n",
        "  t_u_test = t_u_valid\n",
        "  t_c_test = t_c_valid\n",
        "  print(\"Learning Rate: \", rate)\n",
        "  Training_Loop_2(n_epochs, optimizer, learning_rate, params, t_u_train, t_c_train, t_u_test, t_c_test)\n",
        "  print(\"\\n\")"
      ],
      "metadata": {
        "id": "l3JXjDEASRsU"
      },
      "execution_count": null,
      "outputs": []
    }
  ]
}